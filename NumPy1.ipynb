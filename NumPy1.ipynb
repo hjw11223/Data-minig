{
  "cells": [
    {
      "cell_type": "markdown",
      "metadata": {
        "id": "view-in-github",
        "colab_type": "text"
      },
      "source": [
        "<a href=\"https://colab.research.google.com/github/hjw11223/Data-minig/blob/main/NumPy1.ipynb\" target=\"_parent\"><img src=\"https://colab.research.google.com/assets/colab-badge.svg\" alt=\"Open In Colab\"/></a>"
      ]
    },
    {
      "cell_type": "markdown",
      "metadata": {
        "id": "oR5hNBH-Retd"
      },
      "source": [
        "# NumPy\n",
        "\n",
        "* Numerical Python의 약자\n",
        "\n",
        "* 다양한 수학 연산과 다차원 데이터를 쉽게 다루기 위한 파이썬 라이브러리\n",
        "\n",
        "* Numpy는 ndarray라고 하는 특별한 객체를 사용\n",
        "    + 리스트와 달리 고정된 크기를 갖음\n",
        "    + 같은 타입의 데이터만 저장 가능\n",
        "\n",
        "* ndarray는 python 리스트에서 지원하지 않는 다양한 기능들을 지원\n",
        "    + 효율적으로 코드 작성 가능\n",
        "    + 더 빠른 속도"
      ]
    },
    {
      "cell_type": "code",
      "execution_count": null,
      "metadata": {
        "colab": {
          "base_uri": "https://localhost:8080/",
          "height": 35
        },
        "id": "R9klTdhLQ564",
        "outputId": "0e4f3b6f-2df5-4483-c547-34cca4ea9ac7"
      },
      "outputs": [
        {
          "output_type": "execute_result",
          "data": {
            "text/plain": [
              "'1.21.6'"
            ],
            "application/vnd.google.colaboratory.intrinsic+json": {
              "type": "string"
            }
          },
          "metadata": {},
          "execution_count": 2
        }
      ],
      "source": [
        "import numpy as np\n",
        "np.__version__"
      ]
    },
    {
      "cell_type": "markdown",
      "metadata": {
        "id": "2hSWC5ptGyWP"
      },
      "source": [
        "\n",
        "\n",
        "---\n",
        "\n"
      ]
    },
    {
      "cell_type": "markdown",
      "metadata": {
        "id": "1kgkJZFlVUqk"
      },
      "source": [
        "# 배열 생성"
      ]
    },
    {
      "cell_type": "markdown",
      "metadata": {
        "id": "5eQ4sAkMbzm0"
      },
      "source": [
        "## 리스트로 배열 만들기\n",
        "![1.2 Array.png](https://drive.google.com/uc?id=1EKPVGuDQinETf6XkcKFYaQfqp5P2oklE)"
      ]
    },
    {
      "cell_type": "code",
      "execution_count": null,
      "metadata": {
        "colab": {
          "base_uri": "https://localhost:8080/"
        },
        "id": "Mtod2jcPWVvV",
        "outputId": "45730a36-ff41-4a57-d2b9-dd04e2d97185"
      },
      "outputs": [
        {
          "output_type": "stream",
          "name": "stdout",
          "text": [
            "[1 2 3 4 5]\n",
            "<class 'numpy.ndarray'>\n",
            "(5,)\n",
            "1 2 3\n"
          ]
        }
      ],
      "source": [
        "a1 = np.array([1, 2, 3, 4, 5])\n",
        "print(a1)\n",
        "print(type(a1))\n",
        "print(a1.shape)\n",
        "print(a1[0], a1[1], a1[2])"
      ]
    },
    {
      "cell_type": "code",
      "execution_count": null,
      "metadata": {
        "colab": {
          "base_uri": "https://localhost:8080/"
        },
        "id": "vp9tkHH8esXT",
        "outputId": "9f4fd903-7fa3-478c-ca79-3f9f990d13ed"
      },
      "outputs": [
        {
          "output_type": "stream",
          "name": "stdout",
          "text": [
            "[[1 2 3]\n",
            " [4 5 6]]\n",
            "(2, 3)\n",
            "1 5\n"
          ]
        }
      ],
      "source": [
        "a2 = np.array([[1,2,3],[4,5,6]])\n",
        "print(a2)\n",
        "print(a2.shape)\n",
        "print(a2[0,0], a2[1,1])"
      ]
    },
    {
      "cell_type": "code",
      "execution_count": null,
      "metadata": {
        "colab": {
          "base_uri": "https://localhost:8080/"
        },
        "id": "Baj4gZ2meuJu",
        "outputId": "38c50095-1ac2-4ee5-c300-cb814fbd07f4"
      },
      "outputs": [
        {
          "output_type": "stream",
          "name": "stdout",
          "text": [
            "[[[1 2 3 4]\n",
            "  [4 5 6 7]\n",
            "  [9 0 1 2]]\n",
            "\n",
            " [[3 4 5 6]\n",
            "  [7 8 9 0]\n",
            "  [1 2 3 4]]]\n",
            "(2, 3, 4)\n"
          ]
        }
      ],
      "source": [
        "a3 = np.array([[[1, 2, 3, 4], [4, 5, 6, 7], [9, 0, 1, 2]],\n",
        "                [[3, 4, 5, 6], [7, 8, 9, 0], [1, 2, 3, 4]]\n",
        "               ])\n",
        "print(a3)\n",
        "print(a3.shape)"
      ]
    },
    {
      "cell_type": "markdown",
      "metadata": {
        "id": "PNkKtw4CoSDB"
      },
      "source": [
        "## 배열 생성 및 초기화"
      ]
    },
    {
      "cell_type": "markdown",
      "metadata": {
        "id": "mJVii5p_VfgM"
      },
      "source": [
        "* `zeros()`: 모든 요소를 0으로 초기화"
      ]
    },
    {
      "cell_type": "code",
      "execution_count": null,
      "metadata": {
        "colab": {
          "base_uri": "https://localhost:8080/"
        },
        "id": "W_SF1tVoVTf1",
        "outputId": "1df577ec-dbed-4c20-f213-bc1be1a5e0f6"
      },
      "outputs": [
        {
          "output_type": "execute_result",
          "data": {
            "text/plain": [
              "array([0., 0., 0., 0., 0., 0., 0., 0., 0., 0.])"
            ]
          },
          "metadata": {},
          "execution_count": 6
        }
      ],
      "source": [
        "np.zeros(10)"
      ]
    },
    {
      "cell_type": "markdown",
      "metadata": {
        "id": "LjYFQrODVqhX"
      },
      "source": [
        "* `ones()`: 모든 요소를 1로 초기화"
      ]
    },
    {
      "cell_type": "code",
      "execution_count": null,
      "metadata": {
        "colab": {
          "base_uri": "https://localhost:8080/"
        },
        "id": "MURoqsMsVeUw",
        "outputId": "b15165ed-3d6e-464f-e9ba-2ec055f5163a"
      },
      "outputs": [
        {
          "output_type": "execute_result",
          "data": {
            "text/plain": [
              "array([[1., 1., 1.],\n",
              "       [1., 1., 1.]])"
            ]
          },
          "metadata": {},
          "execution_count": 7
        }
      ],
      "source": [
        "np.ones((2, 3))"
      ]
    },
    {
      "cell_type": "markdown",
      "metadata": {
        "id": "jnmm3Cj-cGtx"
      },
      "source": [
        "* `full()`: 모든 요소를 지정한 값으로 초기화"
      ]
    },
    {
      "cell_type": "code",
      "execution_count": null,
      "metadata": {
        "colab": {
          "base_uri": "https://localhost:8080/"
        },
        "id": "oscabrdcV7Ny",
        "outputId": "e29f0f46-0365-4270-8b43-56ca3f4532a7"
      },
      "outputs": [
        {
          "output_type": "execute_result",
          "data": {
            "text/plain": [
              "array([[1.23, 1.23, 1.23],\n",
              "       [1.23, 1.23, 1.23]])"
            ]
          },
          "metadata": {},
          "execution_count": 8
        }
      ],
      "source": [
        "np.full((2,3), 1.23)"
      ]
    },
    {
      "cell_type": "markdown",
      "metadata": {
        "id": "0SRI4jbmlIKc"
      },
      "source": [
        "* `eye()`: 단위행렬(identity matrix) 생성\n",
        "  + 주대각선의 원소가 모두 1이고 나머지 원소는 모두 0인 정사각 행렬"
      ]
    },
    {
      "cell_type": "code",
      "execution_count": null,
      "metadata": {
        "colab": {
          "base_uri": "https://localhost:8080/"
        },
        "id": "VceBVLLjk9o5",
        "outputId": "01c6148d-b702-4735-c31f-5ea995b18bda"
      },
      "outputs": [
        {
          "output_type": "execute_result",
          "data": {
            "text/plain": [
              "array([[1., 0., 0.],\n",
              "       [0., 1., 0.],\n",
              "       [0., 0., 1.]])"
            ]
          },
          "metadata": {},
          "execution_count": 9
        }
      ],
      "source": [
        "np.eye(3)"
      ]
    },
    {
      "cell_type": "markdown",
      "metadata": {
        "id": "7CCH1ZMT5R02"
      },
      "source": [
        "* `tri()`: 삼각행렬 생성"
      ]
    },
    {
      "cell_type": "code",
      "execution_count": null,
      "metadata": {
        "colab": {
          "base_uri": "https://localhost:8080/"
        },
        "id": "mLe2Bhj05VYu",
        "outputId": "78566573-fe5f-4a67-e337-ed22aa39d257"
      },
      "outputs": [
        {
          "output_type": "execute_result",
          "data": {
            "text/plain": [
              "array([[1., 0., 0.],\n",
              "       [1., 1., 0.],\n",
              "       [1., 1., 1.]])"
            ]
          },
          "metadata": {},
          "execution_count": 10
        }
      ],
      "source": [
        "np.tri(3)"
      ]
    },
    {
      "cell_type": "markdown",
      "metadata": {
        "id": "ObZRA4HclZlO"
      },
      "source": [
        "* `empty()`: 초기화되지 않은 배열 생성\n",
        "  + 초기화가 없어서 배열 생성비용 저렴하고 빠름\n",
        "  + 초기화되지 않아서 기존 메모리 위치에 존재하는 값이 있음"
      ]
    },
    {
      "cell_type": "code",
      "execution_count": null,
      "metadata": {
        "colab": {
          "base_uri": "https://localhost:8080/"
        },
        "id": "I3SoFgiglAkz",
        "outputId": "9880e6a6-d3df-426c-a648-193a12bc0c7a"
      },
      "outputs": [
        {
          "output_type": "execute_result",
          "data": {
            "text/plain": [
              "array([0., 0., 0., 0., 0., 0., 0., 0., 0., 0.])"
            ]
          },
          "metadata": {},
          "execution_count": 11
        }
      ],
      "source": [
        "np.empty(10)"
      ]
    },
    {
      "cell_type": "markdown",
      "metadata": {
        "id": "p3uSl1Ccmi5_"
      },
      "source": [
        "* `_like()`: 지정된 배열과 shape가 같은 행렬 생성\n",
        "  + `np.zeros_like()`\n",
        "  + `np.ones_like()`\n",
        "  + `np.full_like()`\n",
        "  + `np.empty_like()`"
      ]
    },
    {
      "cell_type": "code",
      "execution_count": null,
      "metadata": {
        "colab": {
          "base_uri": "https://localhost:8080/"
        },
        "id": "Ad5RskRRlZLs",
        "outputId": "30674a8a-fa11-4b31-d986-32cee99a90f3"
      },
      "outputs": [
        {
          "output_type": "stream",
          "name": "stdout",
          "text": [
            "[1 2 3 4 5]\n"
          ]
        },
        {
          "output_type": "execute_result",
          "data": {
            "text/plain": [
              "array([0, 0, 0, 0, 0])"
            ]
          },
          "metadata": {},
          "execution_count": 12
        }
      ],
      "source": [
        "print(a1)\n",
        "np.zeros_like(a1)"
      ]
    },
    {
      "cell_type": "code",
      "execution_count": null,
      "metadata": {
        "colab": {
          "base_uri": "https://localhost:8080/"
        },
        "id": "KChUHsG003Nf",
        "outputId": "69071b88-f563-43fc-8872-e38675ea3f5e"
      },
      "outputs": [
        {
          "output_type": "stream",
          "name": "stdout",
          "text": [
            "[[1 2 3]\n",
            " [4 5 6]]\n"
          ]
        },
        {
          "output_type": "execute_result",
          "data": {
            "text/plain": [
              "array([[1, 1, 1],\n",
              "       [1, 1, 1]])"
            ]
          },
          "metadata": {},
          "execution_count": 13
        }
      ],
      "source": [
        "print(a2)\n",
        "np.ones_like(a2)"
      ]
    },
    {
      "cell_type": "code",
      "execution_count": null,
      "metadata": {
        "colab": {
          "base_uri": "https://localhost:8080/"
        },
        "id": "PUnDz6b305Gg",
        "outputId": "c1f35534-a165-4ccd-dfdc-fb1d398e9db1"
      },
      "outputs": [
        {
          "output_type": "stream",
          "name": "stdout",
          "text": [
            "[[[1 2 3 4]\n",
            "  [4 5 6 7]\n",
            "  [9 0 1 2]]\n",
            "\n",
            " [[3 4 5 6]\n",
            "  [7 8 9 0]\n",
            "  [1 2 3 4]]]\n"
          ]
        },
        {
          "output_type": "execute_result",
          "data": {
            "text/plain": [
              "array([[[10, 10, 10, 10],\n",
              "        [10, 10, 10, 10],\n",
              "        [10, 10, 10, 10]],\n",
              "\n",
              "       [[10, 10, 10, 10],\n",
              "        [10, 10, 10, 10],\n",
              "        [10, 10, 10, 10]]])"
            ]
          },
          "metadata": {},
          "execution_count": 14
        }
      ],
      "source": [
        "print(a3)\n",
        "np.full_like(a3, 10)"
      ]
    },
    {
      "cell_type": "markdown",
      "metadata": {
        "id": "apoksGJNrn1z"
      },
      "source": [
        "## 생성한 값으로 배열 생성"
      ]
    },
    {
      "cell_type": "markdown",
      "metadata": {
        "id": "H3nmLct8cnV8"
      },
      "source": [
        "* `arange()`: 정수 범위로 배열 생성"
      ]
    },
    {
      "cell_type": "code",
      "execution_count": null,
      "metadata": {
        "colab": {
          "base_uri": "https://localhost:8080/"
        },
        "id": "mANy4WY4cDKa",
        "outputId": "e09ba527-6d5f-46d3-e5ac-e10063408541"
      },
      "outputs": [
        {
          "output_type": "execute_result",
          "data": {
            "text/plain": [
              "array([ 0,  2,  4,  6,  8, 10, 12, 14, 16, 18, 20, 22, 24, 26, 28])"
            ]
          },
          "metadata": {},
          "execution_count": 15
        }
      ],
      "source": [
        "np.arange(0, 30, 2)"
      ]
    },
    {
      "cell_type": "markdown",
      "metadata": {
        "id": "s5kET1e6itlo"
      },
      "source": [
        "* `linspace()`: 범위 내에서 균등 간격의 배열 생성"
      ]
    },
    {
      "cell_type": "code",
      "execution_count": null,
      "metadata": {
        "colab": {
          "base_uri": "https://localhost:8080/"
        },
        "id": "u4q9gI7Zcltz",
        "outputId": "a3097259-c535-4aeb-e867-49d4e89b5578"
      },
      "outputs": [
        {
          "output_type": "execute_result",
          "data": {
            "text/plain": [
              "array([0.  , 0.25, 0.5 , 0.75, 1.  ])"
            ]
          },
          "metadata": {},
          "execution_count": 16
        }
      ],
      "source": [
        "np.linspace(0, 1, 5)"
      ]
    },
    {
      "cell_type": "markdown",
      "metadata": {
        "id": "6_88s4_Jr7fO"
      },
      "source": [
        "## 랜덤값으로 배열 생성\n",
        "\n",
        "| 함수 | 설명 |\n",
        "|------|------|\n",
        "| `seed` | 난수 발생을 위한 시드(seed) 지정 |\n",
        "| `permutation` | 순서를 임의로 바꾸거나 임의의 순열 반환 |\n",
        "| `shuffle` | 리스트나 배열의 순서를 뒤섞음 |\n",
        "| `random` | 랜덤한 수의 배열 생성 |\n",
        "| `rand` | 균등분포에서 표본 추출 |\n",
        "| `randint` | 주어진 최소/최대 범위의 난수 추출 |\n",
        "| `randn` | 표준편차가 1, 평균값 0인 정규분포의 표본 추출 |\n",
        "| `binomial` | 이항분포에서 표본 추출 |\n",
        "| `normal` | 정규분포(가우시안)에서 표본 추출 |\n",
        "| `beta` | 베타분포에서 표본 추출 |\n",
        "| `chisquare` | 카이제곱분포에서 표본 추출 |\n",
        "| `gamma` | 감마분포에서 표본 추출 |\n",
        "| `uniform` | 균등(0, 1)분포에서 표본 추출 |"
      ]
    },
    {
      "cell_type": "markdown",
      "metadata": {
        "id": "CoK1cVUkjNMg"
      },
      "source": [
        "* `random.random()`: 랜덤한 수의 배열 생성"
      ]
    },
    {
      "cell_type": "code",
      "execution_count": null,
      "metadata": {
        "colab": {
          "base_uri": "https://localhost:8080/"
        },
        "id": "qJwccKEnjMze",
        "outputId": "5157de81-9c79-41ef-cc65-315fcacf48d1"
      },
      "outputs": [
        {
          "output_type": "execute_result",
          "data": {
            "text/plain": [
              "array([[0.35235801, 0.33527557, 0.29519376],\n",
              "       [0.59583733, 0.90653244, 0.68726548],\n",
              "       [0.33821538, 0.13142012, 0.10787547]])"
            ]
          },
          "metadata": {},
          "execution_count": 17
        }
      ],
      "source": [
        "np.random.random((3,3))"
      ]
    },
    {
      "cell_type": "markdown",
      "metadata": {
        "id": "BYsAVwA1kvDI"
      },
      "source": [
        "* `random.randint()`: 일정 구간의 랜덤 정수의 배열 생성"
      ]
    },
    {
      "cell_type": "code",
      "execution_count": null,
      "metadata": {
        "colab": {
          "base_uri": "https://localhost:8080/"
        },
        "id": "oR-UszZ_jqfQ",
        "outputId": "5a3b0da2-10f5-4263-8104-76797561527b"
      },
      "outputs": [
        {
          "output_type": "execute_result",
          "data": {
            "text/plain": [
              "array([[7, 4, 7],\n",
              "       [2, 1, 1],\n",
              "       [0, 1, 6]])"
            ]
          },
          "metadata": {},
          "execution_count": 18
        }
      ],
      "source": [
        "np.random.randint(0, 10, (3,3))"
      ]
    },
    {
      "cell_type": "markdown",
      "metadata": {
        "id": "2r557WHsjrL3"
      },
      "source": [
        "* `random.normal()`: 정규분포(normal distribution)를 고려한 랜덤한 수의 배열 생성\n",
        "* 평균=0, 표준편차=1, 3 x 3 배열"
      ]
    },
    {
      "cell_type": "code",
      "execution_count": null,
      "metadata": {
        "colab": {
          "base_uri": "https://localhost:8080/"
        },
        "id": "Oan3bSpHi2Wq",
        "outputId": "e86f6506-ca18-4ef9-cf48-72964fdaf4b2"
      },
      "outputs": [
        {
          "output_type": "execute_result",
          "data": {
            "text/plain": [
              "array([[ 1.89632929,  0.12696048,  1.29972332],\n",
              "       [-0.81576109, -0.74237323,  1.34538663],\n",
              "       [ 0.17881494,  0.70739359, -0.51729794]])"
            ]
          },
          "metadata": {},
          "execution_count": 19
        }
      ],
      "source": [
        "np.random.normal(0, 1, (3,3))"
      ]
    },
    {
      "cell_type": "markdown",
      "metadata": {
        "id": "fPO-D1rHsrFw"
      },
      "source": [
        "* `random.rand()`: 균등분포(uniform distribution)를 고려한 랜덤한 수의 배열 생성"
      ]
    },
    {
      "cell_type": "code",
      "execution_count": null,
      "metadata": {
        "colab": {
          "base_uri": "https://localhost:8080/"
        },
        "id": "DxiyEjnXnDUT",
        "outputId": "f74e534b-001f-4039-af50-b42df13cc857"
      },
      "outputs": [
        {
          "output_type": "execute_result",
          "data": {
            "text/plain": [
              "array([[0.52437438, 0.05664569, 0.99847127],\n",
              "       [0.71594751, 0.97220701, 0.73342806],\n",
              "       [0.5841365 , 0.34936384, 0.52788816]])"
            ]
          },
          "metadata": {},
          "execution_count": 20
        }
      ],
      "source": [
        "np.random.rand(3,3)"
      ]
    },
    {
      "cell_type": "markdown",
      "metadata": {
        "id": "IegH2dsPLQgd"
      },
      "source": [
        "* `random.randn()`: 표준 정규 분포(standard normal distribution)를 고려한 랜덤한 수의 배열 생성"
      ]
    },
    {
      "cell_type": "code",
      "execution_count": null,
      "metadata": {
        "colab": {
          "base_uri": "https://localhost:8080/"
        },
        "id": "V61VHa-JLIma",
        "outputId": "dcfd31e5-26c3-41ac-a35f-b4f1e0ebda52"
      },
      "outputs": [
        {
          "output_type": "execute_result",
          "data": {
            "text/plain": [
              "array([[ 0.35453631, -0.29840889,  0.33357831],\n",
              "       [ 0.27985278,  0.55576783,  0.77896425],\n",
              "       [-0.37090552, -0.91854451, -0.30744496]])"
            ]
          },
          "metadata": {},
          "execution_count": 21
        }
      ],
      "source": [
        "np.random.randn(3,3)"
      ]
    },
    {
      "cell_type": "markdown",
      "metadata": {
        "id": "M9Vuo8Y3bVa9"
      },
      "source": [
        "## 표준 데이터 타입\n",
        "\n",
        "| 데이터 타입\t    | 설명 |\n",
        "|---------------|-------------|\n",
        "| ``bool_``     | 바이트로 저장된 불리언(Boolean)으로 True 또는 False 값을 가짐 |\n",
        "| ``int_``      | 기본 정수(Integer) 타입 | \n",
        "| ``intc``      | C 언어에서 사용되는 ``int``와 동일 (일반적으로 ``int32`` 또는 ``int64``) | \n",
        "| ``intp``      | 인덱싱에 사용되는 정수 (C 언어에서 ``ssize_t``와 동일; 일반적으로 ``int32`` 또는 ``int64``) | \n",
        "| ``int8``      | 바이트(Byte) (-128 ~ 127) | \n",
        "| ``int16``     | 정수 (-32768 ~ 32767) |\n",
        "| ``int32``     | 정수 (-2147483648 ~ 2147483647) |\n",
        "| ``int64``     | 정수(-9223372036854775808 ~ 9223372036854775807) | \n",
        "| ``uint8``     | 부호 없는 정수 (0 ~ 255) | \n",
        "| ``uint16``    | 부호 없는 정수 (0 ~ 65535) | \n",
        "| ``uint32``    | 부호 없는 정수 (0 ~ 4294967295) | \n",
        "| ``uint64``    | 부호 없는 정수 (0 ~ 18446744073709551615) |  \n",
        "| ``float16``   | 반정밀 부동 소수점(Half precision float): 부호 비트, 5비트 지수, 10비트 가수 | \n",
        "| ``float32``   | 단정밀 부동 소수점(Single precision float): 부호 비트, 8비트 지수, 23비트 가수| \n",
        "| ``float64``   | 배정밀 부동 소수점(Double precision float): 부호 비트, 11비트 지수, 52비트 가수 |\n",
        "| ``float_``    | ``float64``를 줄여서 표현 |\n",
        "| ``complex64`` | 복소수(Complex number), 두 개의 32비트 부동 소수점으로 표현 | \n",
        "| ``complex128``| 복소수, 두 개의 64비트 부동 소수점으로 표현| \n",
        "| ``complex_``  | ``complex128``를 줄여서 표현 | "
      ]
    },
    {
      "cell_type": "code",
      "execution_count": null,
      "metadata": {
        "colab": {
          "base_uri": "https://localhost:8080/"
        },
        "id": "TT6cDws2bVa9",
        "outputId": "ae20247a-f6f6-4615-a6e6-92cf3d5e5fe5"
      },
      "outputs": [
        {
          "output_type": "execute_result",
          "data": {
            "text/plain": [
              "array([0, 0, 0, 0, 0, 0, 0, 0, 0, 0, 0, 0, 0, 0, 0, 0, 0, 0, 0, 0])"
            ]
          },
          "metadata": {},
          "execution_count": 22
        }
      ],
      "source": [
        "np.zeros(20, dtype=int)"
      ]
    },
    {
      "cell_type": "code",
      "execution_count": null,
      "metadata": {
        "colab": {
          "base_uri": "https://localhost:8080/"
        },
        "id": "4v1SE_hhbVa9",
        "outputId": "e529f72f-3b56-4964-d898-e57e4419eb84"
      },
      "outputs": [
        {
          "output_type": "execute_result",
          "data": {
            "text/plain": [
              "array([[ True,  True,  True],\n",
              "       [ True,  True,  True],\n",
              "       [ True,  True,  True]])"
            ]
          },
          "metadata": {},
          "execution_count": 23
        }
      ],
      "source": [
        "np.ones((3,3), dtype=bool)"
      ]
    },
    {
      "cell_type": "code",
      "execution_count": null,
      "metadata": {
        "colab": {
          "base_uri": "https://localhost:8080/"
        },
        "id": "co7OksZIbVa9",
        "outputId": "7c19d7a9-316a-4dd7-d79e-5f417383ee5c"
      },
      "outputs": [
        {
          "output_type": "execute_result",
          "data": {
            "text/plain": [
              "array([[1., 1., 1.],\n",
              "       [1., 1., 1.],\n",
              "       [1., 1., 1.]])"
            ]
          },
          "metadata": {},
          "execution_count": 24
        }
      ],
      "source": [
        "np.full((3,3), 1, dtype=float)"
      ]
    },
    {
      "cell_type": "markdown",
      "metadata": {
        "id": "5AREIamhGxAr"
      },
      "source": [
        "\n",
        "\n",
        "---\n",
        "\n"
      ]
    },
    {
      "cell_type": "markdown",
      "metadata": {
        "id": "d88tkTqbBE5V"
      },
      "source": [
        "# 배열 조회"
      ]
    },
    {
      "cell_type": "markdown",
      "metadata": {
        "id": "vRqwfbjtFnPn"
      },
      "source": [
        "## 배열 속성 정보"
      ]
    },
    {
      "cell_type": "code",
      "execution_count": null,
      "metadata": {
        "id": "R5Rlcll7GXrM"
      },
      "outputs": [],
      "source": [
        "def array_info(array):\n",
        "  print(array)\n",
        "  print(\"ndim:\", array.ndim)\n",
        "  print(\"shape:\", array.shape)\n",
        "  print(\"dtype:\", array.dtype)\n",
        "  print(\"size:\", array.size)\n",
        "  print(\"itemsize:\", array.itemsize)\n",
        "  print(\"nbytes:\", array.nbytes)\n",
        "  print(\"strides:\", array.strides)"
      ]
    },
    {
      "cell_type": "code",
      "execution_count": null,
      "metadata": {
        "colab": {
          "base_uri": "https://localhost:8080/"
        },
        "id": "Na59LwA7KXZV",
        "outputId": "329ca7ff-8ba2-4e97-cd68-863d5f9ef650"
      },
      "outputs": [
        {
          "output_type": "stream",
          "name": "stdout",
          "text": [
            "[1 2 3 4 5]\n",
            "ndim: 1\n",
            "shape: (5,)\n",
            "dtype: int64\n",
            "size: 5\n",
            "itemsize: 8\n",
            "nbytes: 40\n",
            "strides: (8,)\n"
          ]
        }
      ],
      "source": [
        "array_info(a1)"
      ]
    },
    {
      "cell_type": "code",
      "execution_count": null,
      "metadata": {
        "colab": {
          "base_uri": "https://localhost:8080/"
        },
        "id": "Urzr_LsdLah0",
        "outputId": "9cf04a88-e9ac-4824-a041-c521296ea044"
      },
      "outputs": [
        {
          "output_type": "stream",
          "name": "stdout",
          "text": [
            "[[1 2 3]\n",
            " [4 5 6]]\n",
            "ndim: 2\n",
            "shape: (2, 3)\n",
            "dtype: int64\n",
            "size: 6\n",
            "itemsize: 8\n",
            "nbytes: 48\n",
            "strides: (24, 8)\n"
          ]
        }
      ],
      "source": [
        "array_info(a2)"
      ]
    },
    {
      "cell_type": "code",
      "execution_count": null,
      "metadata": {
        "colab": {
          "base_uri": "https://localhost:8080/"
        },
        "id": "jktqh1lsLf4V",
        "outputId": "9ac84bb8-d2be-483b-b7af-44049fb60a83"
      },
      "outputs": [
        {
          "output_type": "stream",
          "name": "stdout",
          "text": [
            "[[[1 2 3 4]\n",
            "  [4 5 6 7]\n",
            "  [9 0 1 2]]\n",
            "\n",
            " [[3 4 5 6]\n",
            "  [7 8 9 0]\n",
            "  [1 2 3 4]]]\n",
            "ndim: 3\n",
            "shape: (2, 3, 4)\n",
            "dtype: int64\n",
            "size: 24\n",
            "itemsize: 8\n",
            "nbytes: 192\n",
            "strides: (96, 32, 8)\n"
          ]
        }
      ],
      "source": [
        "array_info(a3)"
      ]
    },
    {
      "cell_type": "markdown",
      "metadata": {
        "id": "LV1WfdBWFqDu"
      },
      "source": [
        "## 인덱싱(Indexing)"
      ]
    },
    {
      "cell_type": "code",
      "execution_count": null,
      "metadata": {
        "colab": {
          "base_uri": "https://localhost:8080/"
        },
        "id": "Nyb7eDmGFr5m",
        "outputId": "36e479a9-6006-4c31-e494-529d6d0270f7"
      },
      "outputs": [
        {
          "output_type": "stream",
          "name": "stdout",
          "text": [
            "[1 2 3 4 5]\n",
            "1\n",
            "3\n",
            "5\n",
            "4\n"
          ]
        }
      ],
      "source": [
        "print(a1)\n",
        "print(a1[0])\n",
        "print(a1[2])\n",
        "print(a1[-1])\n",
        "print(a1[-2])"
      ]
    },
    {
      "cell_type": "code",
      "execution_count": null,
      "metadata": {
        "colab": {
          "base_uri": "https://localhost:8080/"
        },
        "id": "uHMNcQW3Kn-h",
        "outputId": "b85dd534-69d4-432a-c3ce-25980816c5f2"
      },
      "outputs": [
        {
          "output_type": "stream",
          "name": "stdout",
          "text": [
            "[[1 2 3]\n",
            " [4 5 6]]\n",
            "1\n",
            "3\n",
            "6\n"
          ]
        }
      ],
      "source": [
        "print(a2)\n",
        "print(a2[0, 0])\n",
        "print(a2[0, 2])\n",
        "print(a2[1, -1])"
      ]
    },
    {
      "cell_type": "code",
      "execution_count": null,
      "metadata": {
        "colab": {
          "base_uri": "https://localhost:8080/"
        },
        "id": "IX5yDMGiMxYZ",
        "outputId": "ad8a9a34-b070-4f52-828c-54981230f0a1"
      },
      "outputs": [
        {
          "output_type": "stream",
          "name": "stdout",
          "text": [
            "[[[1 2 3 4]\n",
            "  [4 5 6 7]\n",
            "  [9 0 1 2]]\n",
            "\n",
            " [[3 4 5 6]\n",
            "  [7 8 9 0]\n",
            "  [1 2 3 4]]]\n",
            "1\n",
            "8\n",
            "2\n"
          ]
        }
      ],
      "source": [
        "print(a3)\n",
        "print(a3[0, 0, 0])\n",
        "print(a3[1, 1, 1])\n",
        "print(a3[0, -1, -1])"
      ]
    },
    {
      "cell_type": "markdown",
      "metadata": {
        "id": "uSeXu2y_O4cu"
      },
      "source": [
        "## 슬라이싱(Slicing)"
      ]
    },
    {
      "cell_type": "markdown",
      "metadata": {
        "id": "1hikO_6ZPp5m"
      },
      "source": [
        "* 슬라이싱 구문: `a[start:stop:step]`\n",
        "* 기본값: start=0, stop=ndim, step=1"
      ]
    },
    {
      "cell_type": "code",
      "execution_count": null,
      "metadata": {
        "colab": {
          "base_uri": "https://localhost:8080/"
        },
        "id": "PYZOOCoVO7BF",
        "outputId": "e54df916-f0fc-4094-80d6-66abf5880ff6"
      },
      "outputs": [
        {
          "output_type": "stream",
          "name": "stdout",
          "text": [
            "[1 2 3 4 5]\n",
            "[1 2]\n",
            "[2 3 4 5]\n",
            "[1 2 3]\n",
            "[1 3 5]\n",
            "[5 4 3 2 1]\n"
          ]
        }
      ],
      "source": [
        "print(a1)\n",
        "print(a1[0:2])\n",
        "print(a1[1:])\n",
        "print(a1[:3])\n",
        "print(a1[::2])\n",
        "print(a1[::-1])"
      ]
    },
    {
      "cell_type": "code",
      "execution_count": null,
      "metadata": {
        "colab": {
          "base_uri": "https://localhost:8080/"
        },
        "id": "oULOFrBQWs1G",
        "outputId": "00ac6dfd-ec5e-4461-ca92-dc1b79e0c7c1"
      },
      "outputs": [
        {
          "output_type": "stream",
          "name": "stdout",
          "text": [
            "[[1 2 3]\n",
            " [4 5 6]]\n",
            "[4 5 6]\n",
            "[4 5 6]\n",
            "[[1 2]]\n",
            "[[6 5 4]]\n",
            "[[4 5 6]\n",
            " [1 2 3]]\n",
            "[[6 5 4]\n",
            " [3 2 1]]\n"
          ]
        }
      ],
      "source": [
        "print(a2)\n",
        "print(a2[1])\n",
        "print(a2[1, :])\n",
        "print(a2[:1, :2])\n",
        "print(a2[1:, ::-1])\n",
        "print(a2[::-1, ::1])\n",
        "print(a2[::-1, ::-1])"
      ]
    },
    {
      "cell_type": "markdown",
      "metadata": {
        "id": "LD52bXAsBgbH"
      },
      "source": [
        "## 불리언 인덱싱(Boolean Indexing)\n",
        "\n",
        "* 배열 각 요소의 선택 여부를 불리언(True or False)로 지정\n",
        "* True 값인 인덱스의 값만 조회"
      ]
    },
    {
      "cell_type": "code",
      "execution_count": null,
      "metadata": {
        "id": "pOvNsH2oBgz-",
        "colab": {
          "base_uri": "https://localhost:8080/"
        },
        "outputId": "06630a7d-1c1c-4ff5-d672-e4dd9362ff6b"
      },
      "outputs": [
        {
          "output_type": "stream",
          "name": "stdout",
          "text": [
            "[1 2 3 4 5]\n",
            "[2 3 5]\n",
            "[1 3 4]\n"
          ]
        }
      ],
      "source": [
        "print(a1)\n",
        "bi = [False,  True, True, False, True]\n",
        "print(a1[bi])\n",
        "bi = [True, False, True, True, False]\n",
        "print(a1[bi])"
      ]
    },
    {
      "cell_type": "code",
      "execution_count": null,
      "metadata": {
        "id": "EFfquM2kWHAU",
        "colab": {
          "base_uri": "https://localhost:8080/"
        },
        "outputId": "5610a286-f7a7-441a-e7be-215ab7332c02"
      },
      "outputs": [
        {
          "output_type": "stream",
          "name": "stdout",
          "text": [
            "[[1 2 3]\n",
            " [4 5 6]]\n",
            "[[False False  True]\n",
            " [False  True  True]]\n",
            "[3 5 6]\n"
          ]
        }
      ],
      "source": [
        "print(a2)\n",
        "bi = np.random.randint(0, 2, (2,3), dtype=bool)\n",
        "print(bi)\n",
        "print(a2[bi])"
      ]
    },
    {
      "cell_type": "markdown",
      "metadata": {
        "id": "F71_PQF1GvTs"
      },
      "source": [
        "\n",
        "\n",
        "---\n",
        "\n"
      ]
    },
    {
      "cell_type": "markdown",
      "metadata": {
        "id": "zDI5yQ58O-IX"
      },
      "source": [
        "# 배열 값 삽입/수정/삭제/복사"
      ]
    },
    {
      "cell_type": "markdown",
      "metadata": {
        "id": "zajd1qpVOQYy"
      },
      "source": [
        "## 배열 값 삽입\n",
        "\n",
        "* `insert()`: 배열의 특정 위치에 값 삽입\n",
        "* axis를 지정하지 않으면 1차원 배열로 변환\n",
        "* 추가할 방향을 axis로 지정\n",
        "* 원본 배열 변경없이 새로운 배열 반환"
      ]
    },
    {
      "cell_type": "code",
      "execution_count": null,
      "metadata": {
        "id": "sedRT54rP395",
        "colab": {
          "base_uri": "https://localhost:8080/"
        },
        "outputId": "3242534a-81b7-4c33-dac8-460c03aa34b2"
      },
      "outputs": [
        {
          "output_type": "stream",
          "name": "stdout",
          "text": [
            "[1 2 3 4 5]\n",
            "[10  1  2  3  4  5]\n",
            "[ 1  2 10  3  4  5]\n"
          ]
        }
      ],
      "source": [
        "print(a1)\n",
        "b1 = np.insert(a1, 0, 10)\n",
        "print(b1)\n",
        "c1 = np.insert(a1, 2, 10)\n",
        "print(c1)"
      ]
    },
    {
      "cell_type": "code",
      "execution_count": null,
      "metadata": {
        "id": "zNmu1E4iQ6h-",
        "colab": {
          "base_uri": "https://localhost:8080/"
        },
        "outputId": "da98e90f-041b-4a78-d299-5d321a4d6ea7"
      },
      "outputs": [
        {
          "output_type": "stream",
          "name": "stdout",
          "text": [
            "[[1 2 3]\n",
            " [4 5 6]]\n",
            "[[ 1  2  3]\n",
            " [10 10 10]\n",
            " [ 4  5  6]]\n",
            "[[ 1 10  2  3]\n",
            " [ 4 10  5  6]]\n"
          ]
        }
      ],
      "source": [
        "print(a2)\n",
        "b2 = np.insert(a2, 1, 10, axis=0)\n",
        "print(b2)\n",
        "c2 = np.insert(a2, 1, 10, axis=1)\n",
        "print(c2)"
      ]
    },
    {
      "cell_type": "markdown",
      "metadata": {
        "id": "OlEzG4ffNjyL"
      },
      "source": [
        "## 배열 값 수정\n",
        "\n",
        "* 배열의 인덱싱으로 접근하여 값 수정"
      ]
    },
    {
      "cell_type": "code",
      "execution_count": null,
      "metadata": {
        "id": "ec43i1KWNjeN",
        "colab": {
          "base_uri": "https://localhost:8080/"
        },
        "outputId": "2fb40949-2512-4ad3-c38d-001fb8512101"
      },
      "outputs": [
        {
          "output_type": "stream",
          "name": "stdout",
          "text": [
            "[11 22 33  4  5]\n"
          ]
        }
      ],
      "source": [
        "a1[0] = 11\n",
        "a1[1] = 22\n",
        "a1[2] = 33\n",
        "print(a1)"
      ]
    },
    {
      "cell_type": "code",
      "execution_count": null,
      "metadata": {
        "id": "IApNNx3NOMQh",
        "colab": {
          "base_uri": "https://localhost:8080/"
        },
        "outputId": "05eaa5bc-c549-40da-e3ea-8d21df96c502"
      },
      "outputs": [
        {
          "output_type": "stream",
          "name": "stdout",
          "text": [
            "[ 9  9 33  4  5]\n"
          ]
        }
      ],
      "source": [
        "a1[:2] = 9\n",
        "print(a1)"
      ]
    },
    {
      "cell_type": "code",
      "source": [
        "i = np.array([1, 3, 4])\n",
        "a1[i] = 0\n",
        "print(a1)"
      ],
      "metadata": {
        "colab": {
          "base_uri": "https://localhost:8080/"
        },
        "id": "ZQGqrz6QcdHJ",
        "outputId": "21d4b55b-cb6e-4397-8602-cd544c549c7d"
      },
      "execution_count": null,
      "outputs": [
        {
          "output_type": "stream",
          "name": "stdout",
          "text": [
            "[ 9  0 33  0  0]\n"
          ]
        }
      ]
    },
    {
      "cell_type": "code",
      "source": [
        "a2 = np.array([[1, 2, 3], [4, 5, 6], [7, 8, 9]])\n",
        "print(a2)\n",
        "a2[0, 0] = 11\n",
        "a2[1, 1] = 22\n",
        "print(a2)\n",
        "a2[0] = 1\n",
        "print(a2)"
      ],
      "metadata": {
        "colab": {
          "base_uri": "https://localhost:8080/"
        },
        "id": "qV4XuiPTc0Uw",
        "outputId": "2fe6fcef-e2dc-4c55-e7e8-51abd9348290"
      },
      "execution_count": null,
      "outputs": [
        {
          "output_type": "stream",
          "name": "stdout",
          "text": [
            "[[1 2 3]\n",
            " [4 5 6]\n",
            " [7 8 9]]\n",
            "[[11  2  3]\n",
            " [ 4 22  6]\n",
            " [ 7  8  9]]\n",
            "[[ 1  1  1]\n",
            " [ 4 22  6]\n",
            " [ 7  8  9]]\n"
          ]
        }
      ]
    },
    {
      "cell_type": "code",
      "source": [
        "a2[1:, 2] = 19\n",
        "print(a2)"
      ],
      "metadata": {
        "colab": {
          "base_uri": "https://localhost:8080/"
        },
        "id": "an3s-EgfdM9h",
        "outputId": "22a44eba-81b1-4c65-a47a-85d37e7da4f6"
      },
      "execution_count": null,
      "outputs": [
        {
          "output_type": "stream",
          "name": "stdout",
          "text": [
            "[[ 1  1  1]\n",
            " [ 4 22 19]\n",
            " [ 7  8 19]]\n"
          ]
        }
      ]
    },
    {
      "cell_type": "markdown",
      "metadata": {
        "id": "emV7DgrITPcn"
      },
      "source": [
        "## 배열 값 삭제\n",
        "\n",
        "* `delete()`: 배열의 특정 위치에 값 삭제\n",
        "* axis를 지정하지 않으면 1차원 배열로 변환\n",
        "* 삭제할 방향을 axis로 지정\n",
        "* 원본 배열 변경없이 새로운 배열 반환"
      ]
    },
    {
      "cell_type": "code",
      "execution_count": null,
      "metadata": {
        "id": "I3k_Yx8lTRJ2",
        "colab": {
          "base_uri": "https://localhost:8080/"
        },
        "outputId": "f7b6c5e5-0e67-4d4c-bb09-30aefe7154f2"
      },
      "outputs": [
        {
          "output_type": "stream",
          "name": "stdout",
          "text": [
            "[1 2 3 4 5]\n"
          ]
        }
      ],
      "source": [
        "a1 =np.array([1,2,3,4,5])\n",
        "print(a1)"
      ]
    },
    {
      "cell_type": "code",
      "execution_count": null,
      "metadata": {
        "id": "tRTwMIfJTq_y",
        "colab": {
          "base_uri": "https://localhost:8080/"
        },
        "outputId": "fdb80b78-91b5-4d1f-a6f5-6dff40ec5293"
      },
      "outputs": [
        {
          "output_type": "stream",
          "name": "stdout",
          "text": [
            "[1 3 4 5]\n",
            "[1 2 3 4 5]\n"
          ]
        }
      ],
      "source": [
        "b1 = np.delete(a1, 1)\n",
        "print(b1)\n",
        "print(a1)"
      ]
    },
    {
      "cell_type": "code",
      "source": [
        "a2 = np.array([[1, 2, 3], [4, 5, 6], [7, 8, 9]])\n",
        "print(a2)"
      ],
      "metadata": {
        "colab": {
          "base_uri": "https://localhost:8080/"
        },
        "id": "vvtY6yoFdzni",
        "outputId": "53e1b864-5389-4c0e-8d5c-b236c18d18ce"
      },
      "execution_count": null,
      "outputs": [
        {
          "output_type": "stream",
          "name": "stdout",
          "text": [
            "[[1 2 3]\n",
            " [4 5 6]\n",
            " [7 8 9]]\n"
          ]
        }
      ]
    },
    {
      "cell_type": "code",
      "source": [
        "b2 = np.delete(a2, 1, axis=0)\n",
        "print(b2)"
      ],
      "metadata": {
        "colab": {
          "base_uri": "https://localhost:8080/"
        },
        "id": "y81IRIoAd2v4",
        "outputId": "a72e1b75-ea5b-4151-adbe-dd27e23cb72f"
      },
      "execution_count": null,
      "outputs": [
        {
          "output_type": "stream",
          "name": "stdout",
          "text": [
            "[[1 2 3]\n",
            " [7 8 9]]\n"
          ]
        }
      ]
    },
    {
      "cell_type": "code",
      "source": [
        "c2 = np.delete(a2,1, axis=1)\n",
        "print(c2)"
      ],
      "metadata": {
        "colab": {
          "base_uri": "https://localhost:8080/"
        },
        "id": "7EEngazkd-6w",
        "outputId": "ba0e52e1-ac0d-4fa5-f829-7691ffb82670"
      },
      "execution_count": null,
      "outputs": [
        {
          "output_type": "stream",
          "name": "stdout",
          "text": [
            "[[1 3]\n",
            " [4 6]\n",
            " [7 9]]\n"
          ]
        }
      ]
    },
    {
      "cell_type": "markdown",
      "metadata": {
        "id": "UydkYxV8Z6Fx"
      },
      "source": [
        "## 배열 복사\n",
        "\n",
        "* 리스트 자료형과 달리 배열의 슬라이스는 복사본이 아님"
      ]
    },
    {
      "cell_type": "code",
      "execution_count": null,
      "metadata": {
        "id": "n2_0L8KWZ7wH",
        "colab": {
          "base_uri": "https://localhost:8080/"
        },
        "outputId": "2fee8910-3385-4586-b881-0aa9910f6018"
      },
      "outputs": [
        {
          "output_type": "stream",
          "name": "stdout",
          "text": [
            "[[1 2 3]\n",
            " [4 5 6]\n",
            " [7 8 9]]\n"
          ]
        }
      ],
      "source": [
        "print(a2)"
      ]
    },
    {
      "cell_type": "code",
      "source": [
        "a2_sub = a2[:2, :2]\n",
        "print(a2_sub)"
      ],
      "metadata": {
        "colab": {
          "base_uri": "https://localhost:8080/"
        },
        "id": "M1rk9sCEeSbC",
        "outputId": "14a25e14-da92-4c9a-a3bc-1787a676fa9a"
      },
      "execution_count": null,
      "outputs": [
        {
          "output_type": "stream",
          "name": "stdout",
          "text": [
            "[[1 2]\n",
            " [4 5]]\n"
          ]
        }
      ]
    },
    {
      "cell_type": "code",
      "source": [
        "a2_sub[:, 1]= 0\n",
        "print(a2_sub)\n",
        "print(a2)"
      ],
      "metadata": {
        "colab": {
          "base_uri": "https://localhost:8080/"
        },
        "id": "6Mm0tqnTeZMx",
        "outputId": "7310b2ff-ac5a-42a0-b733-9731109319a2"
      },
      "execution_count": null,
      "outputs": [
        {
          "output_type": "stream",
          "name": "stdout",
          "text": [
            "[[1 0]\n",
            " [4 0]]\n",
            "[[1 0 3]\n",
            " [4 0 6]\n",
            " [7 8 9]]\n"
          ]
        }
      ]
    },
    {
      "cell_type": "markdown",
      "metadata": {
        "id": "UrQqOC1Eat5l"
      },
      "source": [
        "\n",
        "* `copy()`: 배열이나 하위 배열 내의 값을 명시적으로 복사"
      ]
    },
    {
      "cell_type": "code",
      "execution_count": null,
      "metadata": {
        "id": "hLBZ7Qn6bAKO",
        "colab": {
          "base_uri": "https://localhost:8080/"
        },
        "outputId": "64bd7048-fb31-402d-ded1-6527cb004d70"
      },
      "outputs": [
        {
          "output_type": "stream",
          "name": "stdout",
          "text": [
            "[[1 2 3]\n",
            " [4 5 6]\n",
            " [7 8 9]]\n"
          ]
        }
      ],
      "source": [
        "a2 = np.array([[1, 2, 3], [4, 5, 6], [7, 8, 9]])\n",
        "print(a2)"
      ]
    },
    {
      "cell_type": "code",
      "source": [
        "a2_sub_copy=a2[:2, :2].copy()\n",
        "print(a2_sub_copy)"
      ],
      "metadata": {
        "colab": {
          "base_uri": "https://localhost:8080/"
        },
        "id": "y69zbNgseygq",
        "outputId": "735bfeca-defa-4320-e699-c36b9815f004"
      },
      "execution_count": null,
      "outputs": [
        {
          "output_type": "stream",
          "name": "stdout",
          "text": [
            "[[1 2]\n",
            " [4 5]]\n"
          ]
        }
      ]
    },
    {
      "cell_type": "code",
      "source": [
        "a2_sub_copy[:,1] = 0\n",
        "print(a2_sub_copy)\n",
        "print(a2)"
      ],
      "metadata": {
        "colab": {
          "base_uri": "https://localhost:8080/"
        },
        "id": "mRIRX0IWe6fq",
        "outputId": "cde64e82-70a0-4ea8-fae1-c9267708b27d"
      },
      "execution_count": null,
      "outputs": [
        {
          "output_type": "stream",
          "name": "stdout",
          "text": [
            "[[1 0]\n",
            " [4 0]]\n",
            "[[1 2 3]\n",
            " [4 5 6]\n",
            " [7 8 9]]\n"
          ]
        }
      ]
    },
    {
      "cell_type": "markdown",
      "metadata": {
        "id": "4HTc9FXOGtA7"
      },
      "source": [
        "\n",
        "\n",
        "---\n",
        "\n"
      ]
    },
    {
      "cell_type": "markdown",
      "metadata": {
        "id": "XVZY082__yV6"
      },
      "source": [
        "# 배열 변환"
      ]
    },
    {
      "cell_type": "markdown",
      "metadata": {
        "id": "Ec09aPeBO58M"
      },
      "source": [
        "## 배열 전치 및 축 변경"
      ]
    },
    {
      "cell_type": "code",
      "execution_count": null,
      "metadata": {
        "id": "anYByBpoWZmj",
        "colab": {
          "base_uri": "https://localhost:8080/"
        },
        "outputId": "4bb77ba0-3b7a-4d08-b5c4-2203b256c72b"
      },
      "outputs": [
        {
          "output_type": "stream",
          "name": "stdout",
          "text": [
            "[[1 4 7]\n",
            " [2 5 8]\n",
            " [3 6 9]]\n"
          ]
        }
      ],
      "source": [
        "print(a2.T)"
      ]
    },
    {
      "cell_type": "code",
      "execution_count": null,
      "metadata": {
        "id": "6lPwXL8rRTfI",
        "colab": {
          "base_uri": "https://localhost:8080/"
        },
        "outputId": "e127d23e-f0d7-4990-d75d-940415f6fdf1"
      },
      "outputs": [
        {
          "output_type": "stream",
          "name": "stdout",
          "text": [
            "[[1 4 7]\n",
            " [2 5 8]\n",
            " [3 6 9]]\n"
          ]
        }
      ],
      "source": [
        "print(a2.swapaxes(1,0))"
      ]
    },
    {
      "cell_type": "markdown",
      "metadata": {
        "id": "M7xN8WdOdb_S"
      },
      "source": [
        "## 배열 재구조화\n"
      ]
    },
    {
      "cell_type": "markdown",
      "metadata": {
        "id": "JwZJMpXGfY0V"
      },
      "source": [
        "* `reshape()`: 배열의 형상을 변경"
      ]
    },
    {
      "cell_type": "code",
      "execution_count": null,
      "metadata": {
        "id": "SlGQ17VQdd8i",
        "colab": {
          "base_uri": "https://localhost:8080/"
        },
        "outputId": "c018cd67-cfe6-4d13-f007-4e27845bbce3"
      },
      "outputs": [
        {
          "output_type": "stream",
          "name": "stdout",
          "text": [
            "[1 2 3 4 5 6 7 8 9]\n",
            "[[1 2 3]\n",
            " [4 5 6]\n",
            " [7 8 9]]\n"
          ]
        }
      ],
      "source": [
        "n1 = np.arange(1, 10)\n",
        "print(n1)\n",
        "print(n1.reshape(3,3))"
      ]
    },
    {
      "cell_type": "markdown",
      "metadata": {
        "id": "y_U1W-fQfuQY"
      },
      "source": [
        "* `newaxis()`: 새로운 축 추가. 한 차원 증가"
      ]
    },
    {
      "cell_type": "code",
      "execution_count": null,
      "metadata": {
        "id": "COif_weCfkGo",
        "colab": {
          "base_uri": "https://localhost:8080/"
        },
        "outputId": "762135b5-2e88-43cf-fdd5-d2ba8f3bea17"
      },
      "outputs": [
        {
          "output_type": "stream",
          "name": "stdout",
          "text": [
            "[1 2 3 4 5 6 7 8 9]\n"
          ]
        }
      ],
      "source": [
        "print(n1)"
      ]
    },
    {
      "cell_type": "code",
      "source": [
        "print(n1[np.newaxis, 2:5])\n",
        "print(n1[2:5, np.newaxis])"
      ],
      "metadata": {
        "colab": {
          "base_uri": "https://localhost:8080/"
        },
        "id": "POVd6fUOfzba",
        "outputId": "4929a452-4318-47a9-f068-6560b1e1e9b7"
      },
      "execution_count": null,
      "outputs": [
        {
          "output_type": "stream",
          "name": "stdout",
          "text": [
            "[[3 4 5]]\n",
            "[[3]\n",
            " [4]\n",
            " [5]]\n"
          ]
        }
      ]
    },
    {
      "cell_type": "markdown",
      "metadata": {
        "id": "FR82RSDggbcJ"
      },
      "source": [
        "## 배열 크기 변경"
      ]
    },
    {
      "cell_type": "markdown",
      "metadata": {
        "id": "D1LuDMVFl4tc"
      },
      "source": [
        "* `resize()`: 배열 크기 변경\n",
        "* element의 수가 같으면, 배열 모양만 변경\n",
        "* element의 sequence는 유지됨"
      ]
    },
    {
      "cell_type": "code",
      "execution_count": null,
      "metadata": {
        "id": "7B6pHlfxgdSJ",
        "colab": {
          "base_uri": "https://localhost:8080/"
        },
        "outputId": "e40e81fe-31d2-478f-df78-390993562fbb"
      },
      "outputs": [
        {
          "output_type": "stream",
          "name": "stdout",
          "text": [
            "[[7 0 1 1 6]\n",
            " [7 5 0 6 8]]\n"
          ]
        }
      ],
      "source": [
        "n2 = np.random.randint(0, 10, (2, 5))\n",
        "print(n2)"
      ]
    },
    {
      "cell_type": "code",
      "source": [
        "n2.resize((5,2))\n",
        "print(n2)"
      ],
      "metadata": {
        "colab": {
          "base_uri": "https://localhost:8080/"
        },
        "id": "kJz77QRugbWQ",
        "outputId": "4813aca6-4a3a-4955-ceee-a5e0b59379d2"
      },
      "execution_count": null,
      "outputs": [
        {
          "output_type": "stream",
          "name": "stdout",
          "text": [
            "[[7 0]\n",
            " [1 1]\n",
            " [6 7]\n",
            " [5 0]\n",
            " [6 8]]\n"
          ]
        }
      ]
    },
    {
      "cell_type": "markdown",
      "metadata": {
        "id": "s0adm-h9l6sv"
      },
      "source": [
        "* resize 크기가 원본 배열보다 크면, 남은 공간은 0으로 채워짐"
      ]
    },
    {
      "cell_type": "code",
      "execution_count": null,
      "metadata": {
        "id": "IrX0UcjrlWRV",
        "colab": {
          "base_uri": "https://localhost:8080/"
        },
        "outputId": "fff5ec64-7b78-4ad0-f289-ffaa098c94f4"
      },
      "outputs": [
        {
          "output_type": "stream",
          "name": "stdout",
          "text": [
            "[[7 0 1 1 6]\n",
            " [7 5 0 6 8]\n",
            " [0 0 0 0 0]\n",
            " [0 0 0 0 0]\n",
            " [0 0 0 0 0]]\n"
          ]
        }
      ],
      "source": [
        "n2.resize((5,5), refcheck=False)\n",
        "print(n2)"
      ]
    },
    {
      "cell_type": "code",
      "source": [
        "np.resize(n2, (5,5))"
      ],
      "metadata": {
        "colab": {
          "base_uri": "https://localhost:8080/"
        },
        "id": "EfDSZynqgv1X",
        "outputId": "29e4c29e-d236-4465-b1d9-dc10b0bdaacf"
      },
      "execution_count": null,
      "outputs": [
        {
          "output_type": "execute_result",
          "data": {
            "text/plain": [
              "array([[7, 0, 1, 1, 6],\n",
              "       [7, 5, 0, 6, 8],\n",
              "       [0, 0, 0, 0, 0],\n",
              "       [0, 0, 0, 0, 0],\n",
              "       [0, 0, 0, 0, 0]])"
            ]
          },
          "metadata": {},
          "execution_count": 62
        }
      ]
    },
    {
      "cell_type": "markdown",
      "metadata": {
        "id": "78hPDEzfl9JB"
      },
      "source": [
        "* resize 크기가 원본 배열보다 작으면, 기본 값은 삭제됨"
      ]
    },
    {
      "cell_type": "code",
      "execution_count": null,
      "metadata": {
        "id": "fJWrwhc6lmjW",
        "colab": {
          "base_uri": "https://localhost:8080/"
        },
        "outputId": "e33a09e7-d4ba-4cfc-a936-8bc7381eab6f"
      },
      "outputs": [
        {
          "output_type": "stream",
          "name": "stdout",
          "text": [
            "[[7 0 1]\n",
            " [1 6 7]\n",
            " [5 0 6]]\n"
          ]
        }
      ],
      "source": [
        "n2.resize(3,3, refcheck=False)\n",
        "print(n2)"
      ]
    },
    {
      "cell_type": "markdown",
      "metadata": {
        "id": "r9z2gD_pHyx9"
      },
      "source": [
        "## 배열 추가\n",
        "\n",
        "* `append()`: 배열의 끝에 값 추가"
      ]
    },
    {
      "cell_type": "code",
      "execution_count": null,
      "metadata": {
        "id": "fH4lpQKNH5s1",
        "colab": {
          "base_uri": "https://localhost:8080/"
        },
        "outputId": "c6a0ed9f-cc88-4a79-b01b-bce4a60f85f8"
      },
      "outputs": [
        {
          "output_type": "stream",
          "name": "stdout",
          "text": [
            "[[1 2 3]\n",
            " [4 5 6]\n",
            " [7 8 9]]\n",
            "[[10 11 12]\n",
            " [13 14 15]\n",
            " [16 17 18]]\n"
          ]
        }
      ],
      "source": [
        "a2 = np.arange(1,10).reshape(3,3)\n",
        "b2 = np.arange(10,19).reshape(3,3)\n",
        "print(a2)\n",
        "print(b2)"
      ]
    },
    {
      "cell_type": "markdown",
      "metadata": {
        "id": "n8SMl5VVIquk"
      },
      "source": [
        "* axis 지정이 없으면 1차원 배열 형태로 변형되어 결합"
      ]
    },
    {
      "cell_type": "code",
      "execution_count": null,
      "metadata": {
        "id": "LRltk3yFIVsV",
        "colab": {
          "base_uri": "https://localhost:8080/"
        },
        "outputId": "57b78da9-fdf9-4f4d-af37-5c70486e271a"
      },
      "outputs": [
        {
          "output_type": "stream",
          "name": "stdout",
          "text": [
            "[ 1  2  3  4  5  6  7  8  9 10 11 12 13 14 15 16 17 18]\n"
          ]
        }
      ],
      "source": [
        "c2 = np.append(a2, b2)\n",
        "print(c2)"
      ]
    },
    {
      "cell_type": "markdown",
      "metadata": {
        "id": "sVW2UFVZJfpR"
      },
      "source": [
        "* axis를 0으로 지정 : 행 방향 결합"
      ]
    },
    {
      "cell_type": "code",
      "execution_count": null,
      "metadata": {
        "id": "nwJ4xLOeIbMg",
        "colab": {
          "base_uri": "https://localhost:8080/"
        },
        "outputId": "9d753e7a-4383-464d-cb9a-08a9c027c50a"
      },
      "outputs": [
        {
          "output_type": "stream",
          "name": "stdout",
          "text": [
            "[[ 1  2  3]\n",
            " [ 4  5  6]\n",
            " [ 7  8  9]\n",
            " [10 11 12]\n",
            " [13 14 15]\n",
            " [16 17 18]]\n"
          ]
        }
      ],
      "source": [
        "c2 = np.append(a2, b2, axis=0)\n",
        "print(c2)"
      ]
    },
    {
      "cell_type": "markdown",
      "metadata": {
        "id": "4YXxzygaJmj-"
      },
      "source": [
        "* axis를 1로 지정 : 열 방향 결합"
      ]
    },
    {
      "cell_type": "code",
      "execution_count": null,
      "metadata": {
        "id": "JYE4_5gAJmYe",
        "colab": {
          "base_uri": "https://localhost:8080/"
        },
        "outputId": "94167864-3cf0-4560-9f0a-d2369f245b16"
      },
      "outputs": [
        {
          "output_type": "stream",
          "name": "stdout",
          "text": [
            "[[ 1  2  3 10 11 12]\n",
            " [ 4  5  6 13 14 15]\n",
            " [ 7  8  9 16 17 18]]\n"
          ]
        }
      ],
      "source": [
        "c2 = np.append(a2, b2, axis=1)\n",
        "print(c2)"
      ]
    },
    {
      "cell_type": "markdown",
      "metadata": {
        "id": "eYz74NYKo8iH"
      },
      "source": [
        "## 배열 분할"
      ]
    },
    {
      "cell_type": "markdown",
      "metadata": {
        "id": "wjt2zku5pBmF"
      },
      "source": [
        "* `split()`: 배열 분할"
      ]
    },
    {
      "cell_type": "code",
      "execution_count": null,
      "metadata": {
        "id": "H_2e71heo-Eq",
        "colab": {
          "base_uri": "https://localhost:8080/"
        },
        "outputId": "75861725-679d-438c-9a66-cbab722e0f81"
      },
      "outputs": [
        {
          "output_type": "stream",
          "name": "stdout",
          "text": [
            "[11 12 13 14 15 16 17 18 19 20]\n"
          ]
        }
      ],
      "source": [
        "a1 = np.arange(11,21)\n",
        "print(a1)"
      ]
    },
    {
      "cell_type": "code",
      "source": [
        "b1, c1 = np.split(a1, [5])\n",
        "print(b1, c1)"
      ],
      "metadata": {
        "colab": {
          "base_uri": "https://localhost:8080/"
        },
        "id": "HEvqLjSJiEqA",
        "outputId": "382c5c65-b04c-4629-b872-00a78003c31a"
      },
      "execution_count": null,
      "outputs": [
        {
          "output_type": "stream",
          "name": "stdout",
          "text": [
            "[11 12 13 14 15] [16 17 18 19 20]\n"
          ]
        }
      ]
    },
    {
      "cell_type": "code",
      "source": [
        "b1, c1, d1, e1, f1 = np.split(a1, [2, 4, 6, 8])\n",
        "print(b1, c1, d1, e1, f1)"
      ],
      "metadata": {
        "colab": {
          "base_uri": "https://localhost:8080/"
        },
        "id": "CAvOAQuhjB5L",
        "outputId": "155b2c83-8f8c-4c5e-f64a-8ae4232984c4"
      },
      "execution_count": null,
      "outputs": [
        {
          "output_type": "stream",
          "name": "stdout",
          "text": [
            "[11 12] [13 14] [15 16] [17 18] [19 20]\n"
          ]
        }
      ]
    },
    {
      "cell_type": "markdown",
      "metadata": {
        "id": "IvvdCQcKsCLn"
      },
      "source": [
        "* `vsplit()`: 수직(y축) 분할. 행 분할"
      ]
    },
    {
      "cell_type": "code",
      "execution_count": null,
      "metadata": {
        "id": "GdMYlsiLsCoe",
        "colab": {
          "base_uri": "https://localhost:8080/"
        },
        "outputId": "8d9e18a1-81bf-494c-c0a8-d1e660b11ab5"
      },
      "outputs": [
        {
          "output_type": "stream",
          "name": "stdout",
          "text": [
            "[[1 2 3]\n",
            " [4 5 6]\n",
            " [7 8 9]]\n"
          ]
        }
      ],
      "source": [
        "a2 = np.arange(1, 10).reshape(3,3)\n",
        "print(a2)"
      ]
    },
    {
      "cell_type": "code",
      "source": [
        "b2, c2 =np.vsplit(a2, [2])\n",
        "print(b2)\n",
        "print(c2)"
      ],
      "metadata": {
        "colab": {
          "base_uri": "https://localhost:8080/"
        },
        "id": "BtJ4rIGyihhg",
        "outputId": "bbb05565-3cdb-42b2-e437-36a0a9881c42"
      },
      "execution_count": null,
      "outputs": [
        {
          "output_type": "stream",
          "name": "stdout",
          "text": [
            "[[1 2 3]\n",
            " [4 5 6]]\n",
            "[[7 8 9]]\n"
          ]
        }
      ]
    },
    {
      "cell_type": "markdown",
      "metadata": {
        "id": "1aC0a034rSXi"
      },
      "source": [
        "* `hsplit()`: 수평(x축) 분할. 열 분할"
      ]
    },
    {
      "cell_type": "code",
      "execution_count": null,
      "metadata": {
        "id": "ShMnE_bnrSBJ",
        "colab": {
          "base_uri": "https://localhost:8080/"
        },
        "outputId": "f30d23e0-2742-46ed-96c4-b898a0dec535"
      },
      "outputs": [
        {
          "output_type": "stream",
          "name": "stdout",
          "text": [
            "[[1 2]\n",
            " [4 5]\n",
            " [7 8]]\n",
            "[[3]\n",
            " [6]\n",
            " [9]]\n"
          ]
        }
      ],
      "source": [
        "b2, c2 =np.hsplit(a2, [2])\n",
        "print(b2)\n",
        "print(c2)"
      ]
    },
    {
      "cell_type": "markdown",
      "metadata": {
        "id": "rK-zrDZuGoVd"
      },
      "source": [
        "\n",
        "\n",
        "---\n",
        "\n"
      ]
    },
    {
      "cell_type": "markdown",
      "metadata": {
        "id": "Vc-iSWewJ3C1"
      },
      "source": [
        "# 배열 연산\n",
        "\n",
        "* NumPy의 배열 연산은 벡터화(vectorized) 연산을 사용\n",
        "* 일반적으로 NumPy의 범용 함수(universal functions)를 통해 구현\n",
        "* 배열 요소에 대한 반복적인 계산을 효율적으로 수행"
      ]
    },
    {
      "cell_type": "markdown",
      "metadata": {
        "id": "Pg2er1A2w3cz"
      },
      "source": [
        "## 브로드캐스팅(Broadcasting)\n",
        "\n",
        "![1.3 Broadcasting.png](https://drive.google.com/uc?id=1iDTSzbR5GILf1-A7aTfNssG_IF6UZAD2)"
      ]
    },
    {
      "cell_type": "code",
      "execution_count": null,
      "metadata": {
        "id": "IGU-HRgr20nj",
        "colab": {
          "base_uri": "https://localhost:8080/"
        },
        "outputId": "0cfefa5d-b5b0-4103-baa2-0c6fbde2b48b"
      },
      "outputs": [
        {
          "output_type": "stream",
          "name": "stdout",
          "text": [
            "[1 2 3]\n",
            "[6 7 8]\n"
          ]
        }
      ],
      "source": [
        "a1 = np.array([1, 2, 3])\n",
        "print(a1)\n",
        "print(a1 + 5)"
      ]
    },
    {
      "cell_type": "code",
      "source": [
        "a2 = np.arange(1, 10).reshape(3,3)\n",
        "print(a2)"
      ],
      "metadata": {
        "colab": {
          "base_uri": "https://localhost:8080/"
        },
        "id": "8Ipv6WgRkNyr",
        "outputId": "5461e80c-639d-42b2-a5c5-ff8fc7af4ccc"
      },
      "execution_count": null,
      "outputs": [
        {
          "output_type": "stream",
          "name": "stdout",
          "text": [
            "[[1 2 3]\n",
            " [4 5 6]\n",
            " [7 8 9]]\n"
          ]
        }
      ]
    },
    {
      "cell_type": "code",
      "source": [
        "print(a1+a2)"
      ],
      "metadata": {
        "colab": {
          "base_uri": "https://localhost:8080/"
        },
        "id": "GAzJxDRAkV7I",
        "outputId": "43f72724-d724-449d-c9a7-34fb4bbdaf53"
      },
      "execution_count": null,
      "outputs": [
        {
          "output_type": "stream",
          "name": "stdout",
          "text": [
            "[[ 2  4  6]\n",
            " [ 5  7  9]\n",
            " [ 8 10 12]]\n"
          ]
        }
      ]
    },
    {
      "cell_type": "code",
      "source": [
        "b2 = np.array([1, 2, 3]).reshape(3, 1)\n",
        "print(b2)"
      ],
      "metadata": {
        "colab": {
          "base_uri": "https://localhost:8080/"
        },
        "id": "l-UCloynkbco",
        "outputId": "fa8fd914-f799-418e-c09f-b4634d21b2b0"
      },
      "execution_count": null,
      "outputs": [
        {
          "output_type": "stream",
          "name": "stdout",
          "text": [
            "[[1]\n",
            " [2]\n",
            " [3]]\n"
          ]
        }
      ]
    },
    {
      "cell_type": "code",
      "source": [
        "print(a1+b2)"
      ],
      "metadata": {
        "colab": {
          "base_uri": "https://localhost:8080/"
        },
        "id": "75WoXSzIkhX4",
        "outputId": "cb33aedb-3892-4150-ee34-ea1ce1d8fbe3"
      },
      "execution_count": null,
      "outputs": [
        {
          "output_type": "stream",
          "name": "stdout",
          "text": [
            "[[2 3 4]\n",
            " [3 4 5]\n",
            " [4 5 6]]\n"
          ]
        }
      ]
    },
    {
      "cell_type": "markdown",
      "metadata": {
        "id": "NZzLHHLmwl_b"
      },
      "source": [
        "## 산술 연산(Arithmetic Operators)"
      ]
    },
    {
      "cell_type": "markdown",
      "metadata": {
        "id": "4oIlz0bNjK2m"
      },
      "source": [
        "| 연산자\t      | 범용 함수           | 설명        |\n",
        "|---------------|---------------------|-------------|\n",
        "|``+``          |``np.add``           | 덧셈        |\n",
        "|``-``          |``np.subtract``      | 뺄셈        |\n",
        "|``-``          |``np.negative``      | 단항 음수  |\n",
        "|``*``          |``np.multiply``      | 곱셈        |\n",
        "|``/``          |``np.divide``        | 나눗셈      |\n",
        "|``//``         |``np.floor_divide``  | 나눗셈 내림 |\n",
        "|``**``         |``np.power``         | 지수 연산   |\n",
        "|``%``          |``np.mod``           | 나머지 연산 |\n"
      ]
    },
    {
      "cell_type": "code",
      "execution_count": null,
      "metadata": {
        "id": "jHrIjHGEi05k",
        "colab": {
          "base_uri": "https://localhost:8080/"
        },
        "outputId": "b03fa46d-ad3d-4bad-c569-654bd5268872"
      },
      "outputs": [
        {
          "output_type": "stream",
          "name": "stdout",
          "text": [
            "[1 2 3 4 5 6 7 8 9]\n"
          ]
        }
      ],
      "source": [
        "a1 = np.arange(1,10)\n",
        "print(a1)"
      ]
    },
    {
      "cell_type": "code",
      "execution_count": null,
      "metadata": {
        "id": "sMUYzXk3psgC",
        "colab": {
          "base_uri": "https://localhost:8080/"
        },
        "outputId": "19e6f386-68ce-4dd6-9efb-db6429532abf"
      },
      "outputs": [
        {
          "output_type": "stream",
          "name": "stdout",
          "text": [
            "[ 2  3  4  5  6  7  8  9 10]\n",
            "[11 12 13 14 15 16 17 18 19]\n"
          ]
        }
      ],
      "source": [
        "print(a1+1)\n",
        "print(np.add(a1, 10))"
      ]
    },
    {
      "cell_type": "code",
      "execution_count": null,
      "metadata": {
        "id": "ZkyjPmk5onPK",
        "colab": {
          "base_uri": "https://localhost:8080/"
        },
        "outputId": "5db85d74-2f18-46e2-d5bf-db02031b1589"
      },
      "outputs": [
        {
          "output_type": "stream",
          "name": "stdout",
          "text": [
            "[1 2 3 4 5 6 7 8 9]\n",
            "[2 8 8 1 5 8 2 2 9]\n"
          ]
        }
      ],
      "source": [
        "a1 = np.arange(1, 10)\n",
        "b1 = np.random.randint(1, 10 , size=9)\n",
        "print(a1)\n",
        "print(b1)"
      ]
    },
    {
      "cell_type": "code",
      "source": [
        "print(a1+b1)\n",
        "print(np.add(a1,b1))"
      ],
      "metadata": {
        "colab": {
          "base_uri": "https://localhost:8080/"
        },
        "id": "_E3Dkx2nuYdq",
        "outputId": "57a661c5-6743-462e-f923-2fc9f7e28186"
      },
      "execution_count": null,
      "outputs": [
        {
          "output_type": "stream",
          "name": "stdout",
          "text": [
            "[ 3 10 11  5 10 14  9 10 18]\n",
            "[ 3 10 11  5 10 14  9 10 18]\n"
          ]
        }
      ]
    },
    {
      "cell_type": "markdown",
      "source": [
        "## 절대값 함수(Absolute Function)"
      ],
      "metadata": {
        "id": "koDEmCZNdK10"
      }
    },
    {
      "cell_type": "markdown",
      "source": [
        "* `absolute()`, `abs()`:내장된 절대값 함수"
      ],
      "metadata": {
        "id": "PKwmdnKZdUDi"
      }
    },
    {
      "cell_type": "code",
      "source": [
        "a1 = np.random.randint(-10, 10, size=5)\n",
        "print(a1)\n",
        "print(np.absolute(a1))\n",
        "print(abs(a1))"
      ],
      "metadata": {
        "colab": {
          "base_uri": "https://localhost:8080/"
        },
        "id": "MlN6h8yedqPk",
        "outputId": "d19f38ad-efcf-4395-e7ba-d883479e2411"
      },
      "execution_count": null,
      "outputs": [
        {
          "output_type": "stream",
          "name": "stdout",
          "text": [
            "[ 4 -4  5 -7 -1]\n",
            "[4 4 5 7 1]\n",
            "[4 4 5 7 1]\n"
          ]
        }
      ]
    },
    {
      "cell_type": "markdown",
      "source": [
        "## 제곱/제곱근 함"
      ],
      "metadata": {
        "id": "Y-6HeKtRdq5j"
      }
    },
    {
      "cell_type": "markdown",
      "source": [
        "* `square`, `sqrt`:제곱, 제곱근 함수"
      ],
      "metadata": {
        "id": "17GEP5CKdyDC"
      }
    },
    {
      "cell_type": "code",
      "source": [
        "print(np.square(a1))\n",
        "print(np.sqrt(a1))"
      ],
      "metadata": {
        "colab": {
          "base_uri": "https://localhost:8080/"
        },
        "id": "GjUCOARbd7U7",
        "outputId": "9c1802d5-e096-4130-dc8d-7d6152a8fe35"
      },
      "execution_count": null,
      "outputs": [
        {
          "output_type": "stream",
          "name": "stdout",
          "text": [
            "[16 16 25 49  1]\n",
            "[2.                nan 2.23606798        nan        nan]\n"
          ]
        },
        {
          "output_type": "stream",
          "name": "stderr",
          "text": [
            "/usr/local/lib/python3.7/dist-packages/ipykernel_launcher.py:2: RuntimeWarning: invalid value encountered in sqrt\n",
            "  \n"
          ]
        }
      ]
    },
    {
      "cell_type": "markdown",
      "source": [
        "## 지수와 로그 함수(Exponential and Log Function)"
      ],
      "metadata": {
        "id": "uxwFEy1Id7dz"
      }
    },
    {
      "cell_type": "code",
      "source": [
        "a1 = np.random.randint(1, 10, size = 5)\n",
        "print(a1)\n",
        "print(np.exp(a1)) # e^n\n",
        "print(np.exp2(a1)) # 2^n\n",
        "print(np.power(a1, 2))"
      ],
      "metadata": {
        "colab": {
          "base_uri": "https://localhost:8080/"
        },
        "id": "bNHCHpYbeH1D",
        "outputId": "1d8b1f46-4ad6-4fb7-f2a8-9d6447236a9d"
      },
      "execution_count": null,
      "outputs": [
        {
          "output_type": "stream",
          "name": "stdout",
          "text": [
            "[7 9 8 3 7]\n",
            "[1096.63315843 8103.08392758 2980.95798704   20.08553692 1096.63315843]\n",
            "[128. 512. 256.   8. 128.]\n",
            "[49 81 64  9 49]\n"
          ]
        }
      ]
    },
    {
      "cell_type": "code",
      "source": [
        "print(np.log(a1))\n",
        "print(np.log2(a1))\n",
        "print(np.log10(a1))"
      ],
      "metadata": {
        "colab": {
          "base_uri": "https://localhost:8080/"
        },
        "id": "uQeGr116eIMi",
        "outputId": "84fde5d1-a123-4e93-aeab-5e8d74a82d0e"
      },
      "execution_count": null,
      "outputs": [
        {
          "output_type": "stream",
          "name": "stdout",
          "text": [
            "[1.94591015 2.19722458 2.07944154 1.09861229 1.94591015]\n",
            "[2.80735492 3.169925   3.         1.5849625  2.80735492]\n",
            "[0.84509804 0.95424251 0.90308999 0.47712125 0.84509804]\n"
          ]
        }
      ]
    },
    {
      "cell_type": "markdown",
      "source": [
        "## 집계함수(Aggregate Functions)"
      ],
      "metadata": {
        "id": "VJDHPquEeIoL"
      }
    },
    {
      "cell_type": "markdown",
      "source": [
        "| 함수\t      | NaN안전모드           | 설명        |\n",
        "|---------------|---------------------|-------------|\n",
        "|``np.sum``        |``np.nansum``        | 요소의 합 계산 |\n",
        "|``np.cumsum``     |``np.nancumsum``     | 요소의 누적 합 |\n",
        "|``np.diff``       | N/A                 | 요소의 차분 |\n",
        "|``np.prod``       |``np.nanprod``       | 요소의 곱 계산 |\n",
        "|``np.cumprod``    |``np.nancumprod``    | 요소의 누적 곱 |\n",
        "|``np.dot``        | N/A                 | 점 곱(dot product) |\n",
        "|``np.matmul``     | N/A                 | 행렬 곱 |\n",
        "|``np.tensordot``  | N/A                 | 텐서곱(tensor product) |\n",
        "|``np.cross``      | N/A                 | 벡터곱(vector product) |\n",
        "|``np.inner``      | N/A                 | 내적(inner product) |\n",
        "|``np.outer``      | N/A                 | 외적(outer product) |\n",
        "|``np.mean``       |``np.nanmean``       | 요소의 평균 계산 |\n",
        "|``np.std``        |``np.nanstd``        | 표준 편차 계산 |\n",
        "|``np.var``        |``np.nanvar``        | 분산 계산 |\n",
        "|``np.min``        |``np.nanmin``        | 최소값 |\n",
        "|``np.max``        |``np.nanmax``        | 최대값 |\n",
        "|``np.argmin``     |``np.nanargmin``     | 최소값 인덱스 |\n",
        "|``np.argmax``     |``np.nansrgmax``     | 최대값 인덱스 |\n",
        "|``np.median``     |``np.nanmedian``     | 중앙값 |\n",
        "|``np.percentile`` |``np.nanpercentile`` | 요소의 순위 기반 백분위 수 계산 |\n",
        "|``np.any``        | N/A                 | 요소 중 참이 있는지 평가 |\n",
        "|``np.all``        | N/A                 | 모든 요소가 참인지 평가 |"
      ],
      "metadata": {
        "id": "E_NkyUqYex6L"
      }
    },
    {
      "cell_type": "markdown",
      "source": [
        "### sum(): 합 계산"
      ],
      "metadata": {
        "id": "54jkI5jpkgra"
      }
    },
    {
      "cell_type": "code",
      "source": [
        "a2 =np.random.randint(1, 10, size=(3,3))\n",
        "print(a2)\n",
        "print(a2.sum(), np.sum(a2))\n",
        "print(a2.sum(axis=0), np.sum(a2, axis=0)) # 열병합 합 (결과값의 방향이 행)\n",
        "print(a2.sum(axis=1), np.sum(a2, axis=1)) # 행방향 합 (결과값의 방향이 열)"
      ],
      "metadata": {
        "colab": {
          "base_uri": "https://localhost:8080/"
        },
        "id": "1Jd86T7qk0Pz",
        "outputId": "31ac4e7c-aa0c-4de3-f073-ad6cce8c8a83"
      },
      "execution_count": null,
      "outputs": [
        {
          "output_type": "stream",
          "name": "stdout",
          "text": [
            "[[2 7 3]\n",
            " [3 9 4]\n",
            " [6 7 4]]\n",
            "45 45\n",
            "[11 23 11] [11 23 11]\n",
            "[12 16 17] [12 16 17]\n"
          ]
        }
      ]
    },
    {
      "cell_type": "markdown",
      "source": [
        "### cumsum(): 누적 계산"
      ],
      "metadata": {
        "id": "CxY0-wSck0gB"
      }
    },
    {
      "cell_type": "code",
      "source": [
        "print(a2)\n",
        "print(np.cumsum(a2))\n",
        "print(np.cumsum(a2, axis=0))\n",
        "print(np.cumsum(a2, axis=1))"
      ],
      "metadata": {
        "colab": {
          "base_uri": "https://localhost:8080/"
        },
        "id": "bL2rtk_ilBm9",
        "outputId": "60780d3d-900f-4b63-ee0e-a4b9a1b84684"
      },
      "execution_count": null,
      "outputs": [
        {
          "output_type": "stream",
          "name": "stdout",
          "text": [
            "[[2 7 3]\n",
            " [3 9 4]\n",
            " [6 7 4]]\n",
            "[ 2  9 12 15 24 28 34 41 45]\n",
            "[[ 2  7  3]\n",
            " [ 5 16  7]\n",
            " [11 23 11]]\n",
            "[[ 2  9 12]\n",
            " [ 3 12 16]\n",
            " [ 6 13 17]]\n"
          ]
        }
      ]
    },
    {
      "cell_type": "markdown",
      "source": [
        "### prod(): 곱 계산"
      ],
      "metadata": {
        "id": "gmDqQVtYlCIR"
      }
    },
    {
      "cell_type": "code",
      "source": [
        "print(a2)\n",
        "print(np.prod(a2))\n",
        "print(np.prod(a2, axis=0))\n",
        "print(np.prod(a2, axis=1))"
      ],
      "metadata": {
        "colab": {
          "base_uri": "https://localhost:8080/"
        },
        "id": "9PfPVS88lHDm",
        "outputId": "ce2fd77c-8ca4-4582-fb19-a3c48092457c"
      },
      "execution_count": null,
      "outputs": [
        {
          "output_type": "stream",
          "name": "stdout",
          "text": [
            "[[2 7 3]\n",
            " [3 9 4]\n",
            " [6 7 4]]\n",
            "762048\n",
            "[ 36 441  48]\n",
            "[ 42 108 168]\n"
          ]
        }
      ]
    },
    {
      "cell_type": "markdown",
      "source": [
        "### cumprod(): 누적곱 계산"
      ],
      "metadata": {
        "id": "AsyZiBcmlMPz"
      }
    },
    {
      "cell_type": "code",
      "source": [
        "print(a2)\n",
        "print(np.cumprod(a2))\n",
        "print(np.cumprod(a2, axis=0))\n",
        "print(np.cumprod(a2, axis=1))"
      ],
      "metadata": {
        "colab": {
          "base_uri": "https://localhost:8080/"
        },
        "id": "UCQLKw2zlTpR",
        "outputId": "c897cd42-9c0f-411f-d15f-32344e09e8df"
      },
      "execution_count": null,
      "outputs": [
        {
          "output_type": "stream",
          "name": "stdout",
          "text": [
            "[[2 7 3]\n",
            " [3 9 4]\n",
            " [6 7 4]]\n",
            "[     2     14     42    126   1134   4536  27216 190512 762048]\n",
            "[[  2   7   3]\n",
            " [  6  63  12]\n",
            " [ 36 441  48]]\n",
            "[[  2  14  42]\n",
            " [  3  27 108]\n",
            " [  6  42 168]]\n"
          ]
        }
      ]
    },
    {
      "cell_type": "markdown",
      "source": [
        "### dot()/matmul(): 점곱/행렬곱 계산"
      ],
      "metadata": {
        "id": "kVu7P9GhlTxh"
      }
    },
    {
      "cell_type": "code",
      "source": [
        "print(a2)\n",
        "b2 =np.ones_like(a2)\n",
        "print(b2)\n",
        "print(np.dot(a2, b2))\n",
        "print(np.matmul(a2,b2))"
      ],
      "metadata": {
        "colab": {
          "base_uri": "https://localhost:8080/"
        },
        "id": "JYI2lLJalbFh",
        "outputId": "cf8f9ce1-9ffa-439c-f559-5bdc8be9dabb"
      },
      "execution_count": null,
      "outputs": [
        {
          "output_type": "stream",
          "name": "stdout",
          "text": [
            "[[2 7 3]\n",
            " [3 9 4]\n",
            " [6 7 4]]\n",
            "[[1 1 1]\n",
            " [1 1 1]\n",
            " [1 1 1]]\n",
            "[[12 12 12]\n",
            " [16 16 16]\n",
            " [17 17 17]]\n",
            "[[12 12 12]\n",
            " [16 16 16]\n",
            " [17 17 17]]\n"
          ]
        }
      ]
    },
    {
      "cell_type": "markdown",
      "source": [
        "### mean(): 평균 계산"
      ],
      "metadata": {
        "id": "SrRGM1oPlgRp"
      }
    },
    {
      "cell_type": "code",
      "source": [
        "print(a2)\n",
        "print(np.mean(a2))\n",
        "print(np.mean(a2, axis=0))\n",
        "print(np.mean(a2, axis=1))"
      ],
      "metadata": {
        "colab": {
          "base_uri": "https://localhost:8080/"
        },
        "id": "xIHVCOdVmRVW",
        "outputId": "7b5bde0f-b4c0-4643-9984-6822febb39df"
      },
      "execution_count": null,
      "outputs": [
        {
          "output_type": "stream",
          "name": "stdout",
          "text": [
            "[[2 7 3]\n",
            " [3 9 4]\n",
            " [6 7 4]]\n",
            "5.0\n",
            "[3.66666667 7.66666667 3.66666667]\n",
            "[4.         5.33333333 5.66666667]\n"
          ]
        }
      ]
    },
    {
      "cell_type": "markdown",
      "source": [
        "### std(): 표준 편차 계산"
      ],
      "metadata": {
        "id": "zlY6nBonmSuJ"
      }
    },
    {
      "cell_type": "code",
      "source": [
        "print(a2)\n",
        "print(np.std(a2))\n",
        "print(np.std(a2, axis=0))\n",
        "print(np.std(a2, axis=1))"
      ],
      "metadata": {
        "colab": {
          "base_uri": "https://localhost:8080/"
        },
        "id": "6vyU0oa_mYWe",
        "outputId": "12e08a56-c69a-42a5-8e63-0e922f14a37d"
      },
      "execution_count": null,
      "outputs": [
        {
          "output_type": "stream",
          "name": "stdout",
          "text": [
            "[[2 7 3]\n",
            " [3 9 4]\n",
            " [6 7 4]]\n",
            "2.211083193570267\n",
            "[1.69967317 0.94280904 0.47140452]\n",
            "[2.1602469  2.62466929 1.24721913]\n"
          ]
        }
      ]
    },
    {
      "cell_type": "markdown",
      "source": [
        "### var(): 분산 계산"
      ],
      "metadata": {
        "id": "8qqEU2pKmYyw"
      }
    },
    {
      "cell_type": "code",
      "source": [
        "print(a2)\n",
        "print(np.var(a2))\n",
        "print(np.var(a2, axis=0))\n",
        "print(np.var(a2, axis=1))"
      ],
      "metadata": {
        "colab": {
          "base_uri": "https://localhost:8080/"
        },
        "id": "O3lLkvl1misb",
        "outputId": "dbb8a80b-1f99-4ad0-f7b1-ecf6ae698b4f"
      },
      "execution_count": null,
      "outputs": [
        {
          "output_type": "stream",
          "name": "stdout",
          "text": [
            "[[2 7 3]\n",
            " [3 9 4]\n",
            " [6 7 4]]\n",
            "4.888888888888889\n",
            "[2.88888889 0.88888889 0.22222222]\n",
            "[4.66666667 6.88888889 1.55555556]\n"
          ]
        }
      ]
    },
    {
      "cell_type": "markdown",
      "source": [
        "### min(): 최소값"
      ],
      "metadata": {
        "id": "mY3Xd_8Xmi8Z"
      }
    },
    {
      "cell_type": "code",
      "source": [
        "print(a2)\n",
        "print(np.min(a2))\n",
        "print(np.min(a2, axis=0))\n",
        "print(np.min(a2, axis=1))"
      ],
      "metadata": {
        "colab": {
          "base_uri": "https://localhost:8080/"
        },
        "id": "s-XlzbFhmqbs",
        "outputId": "14145a8c-8d98-4bee-f4bb-38911414d32a"
      },
      "execution_count": null,
      "outputs": [
        {
          "output_type": "stream",
          "name": "stdout",
          "text": [
            "[[2 7 3]\n",
            " [3 9 4]\n",
            " [6 7 4]]\n",
            "2\n",
            "[2 7 3]\n",
            "[2 3 4]\n"
          ]
        }
      ]
    },
    {
      "cell_type": "markdown",
      "source": [
        "### max(): 최대값"
      ],
      "metadata": {
        "id": "ShRDcV1zmq2Z"
      }
    },
    {
      "cell_type": "code",
      "source": [
        "print(a2)\n",
        "print(np.max(a2))\n",
        "print(np.max(a2, axis=0))\n",
        "print(np.max(a2, axis=1))"
      ],
      "metadata": {
        "colab": {
          "base_uri": "https://localhost:8080/"
        },
        "id": "10Sqjf-cm2Mh",
        "outputId": "0ac26172-da8f-4d98-c435-509521fcf927"
      },
      "execution_count": null,
      "outputs": [
        {
          "output_type": "stream",
          "name": "stdout",
          "text": [
            "[[2 7 3]\n",
            " [3 9 4]\n",
            " [6 7 4]]\n",
            "9\n",
            "[6 9 4]\n",
            "[7 9 7]\n"
          ]
        }
      ]
    },
    {
      "cell_type": "markdown",
      "source": [
        "### argmin(): 최소값 인덱스"
      ],
      "metadata": {
        "id": "Zdp2OqRdm2UJ"
      }
    },
    {
      "cell_type": "code",
      "source": [
        "print(a2)\n",
        "print(np.argmin(a2))\n",
        "print(np.argmin(a2, axis=0))\n",
        "print(np.argmin(a2, axis=1))"
      ],
      "metadata": {
        "colab": {
          "base_uri": "https://localhost:8080/"
        },
        "id": "apoAIst-nJPa",
        "outputId": "7d867190-f573-4b2d-90b6-9b3e8454fa48"
      },
      "execution_count": null,
      "outputs": [
        {
          "output_type": "stream",
          "name": "stdout",
          "text": [
            "[[2 7 3]\n",
            " [3 9 4]\n",
            " [6 7 4]]\n",
            "0\n",
            "[0 0 0]\n",
            "[0 0 2]\n"
          ]
        }
      ]
    },
    {
      "cell_type": "markdown",
      "source": [
        "### argmax(): 최대값 인덱스"
      ],
      "metadata": {
        "id": "DEcP7vEJnJXp"
      }
    },
    {
      "cell_type": "code",
      "source": [
        "print(a2)\n",
        "print(np.argmax(a2))\n",
        "print(np.argmax(a2, axis=0))\n",
        "print(np.argmax(a2, axis=1))"
      ],
      "metadata": {
        "colab": {
          "base_uri": "https://localhost:8080/"
        },
        "id": "ziMIFjJ-pgww",
        "outputId": "a1c040b1-73da-4c33-f746-e301aeed56f8"
      },
      "execution_count": null,
      "outputs": [
        {
          "output_type": "stream",
          "name": "stdout",
          "text": [
            "[[2 7 3]\n",
            " [3 9 4]\n",
            " [6 7 4]]\n",
            "4\n",
            "[2 1 1]\n",
            "[1 1 1]\n"
          ]
        }
      ]
    },
    {
      "cell_type": "markdown",
      "source": [
        "## median(): 중앙"
      ],
      "metadata": {
        "id": "xpp3v5j5Y92V"
      }
    },
    {
      "cell_type": "code",
      "source": [
        "print(a2)\n",
        "print(np.median(a2))\n",
        "print(np.median(a2, axis=0))\n",
        "print(np.median(a2, axis=1))"
      ],
      "metadata": {
        "colab": {
          "base_uri": "https://localhost:8080/"
        },
        "id": "GbX3TNGhZE4J",
        "outputId": "835286b8-cb0d-4bdd-d966-2e204d3d0a20"
      },
      "execution_count": null,
      "outputs": [
        {
          "output_type": "stream",
          "name": "stdout",
          "text": [
            "[[2 7 3]\n",
            " [3 9 4]\n",
            " [6 7 4]]\n",
            "4.0\n",
            "[3. 7. 4.]\n",
            "[3. 4. 6.]\n"
          ]
        }
      ]
    },
    {
      "cell_type": "markdown",
      "source": [
        "### percetile(): 백분위 수"
      ],
      "metadata": {
        "id": "ShsbunF8pg84"
      }
    },
    {
      "cell_type": "markdown",
      "source": [
        "* percentile(a, q, interolation='linear')\n",
        "  * a배열 요소의 q번째 백분위 수 계산\n",
        "  * q: 0~100 사이값\n",
        "  *interpolation: 백분위 수가 데이터i,j(i<j)사이에 있을 때 사용할 보간 방법\n",
        "    * 'linear': i+(j-i)*fraction, where fractio is the fractional part of index surrounded by i and j\n",
        "    * 'lower': i\n",
        "    * 'higher': j\n",
        "    * 'nearest': i or j, whichever is nearest\n",
        "    * 'midpoint': (i+j)/2"
      ],
      "metadata": {
        "id": "agLgX6SJq_Uv"
      }
    },
    {
      "cell_type": "code",
      "source": [
        "a1 = np.arange(1 ,13)\n",
        "print(a1)\n",
        "print(np.percentile(a1, [30, 50, 80], interpolation='linear'))\n",
        "print(np.percentile(a1, [30, 50, 80], interpolation='lower'))\n",
        "print(np.percentile(a1, [30, 50, 80], interpolation='higher'))\n",
        "print(np.percentile(a1, [30, 50, 80], interpolation='nearest'))\n",
        "print(np.percentile(a1, [30, 50, 80], interpolation='midpoint'))"
      ],
      "metadata": {
        "colab": {
          "base_uri": "https://localhost:8080/"
        },
        "id": "89-06kuQqIgp",
        "outputId": "54b08013-40f1-4267-d1c3-ba9c48d48241"
      },
      "execution_count": null,
      "outputs": [
        {
          "output_type": "stream",
          "name": "stdout",
          "text": [
            "[ 1  2  3  4  5  6  7  8  9 10 11 12]\n",
            "[4.3 6.5 9.8]\n",
            "[4 6 9]\n",
            "[ 5  7 10]\n",
            "[ 4  7 10]\n",
            "[4.5 6.5 9.5]\n"
          ]
        }
      ]
    },
    {
      "cell_type": "code",
      "source": [
        "a2 = np.array([[10, 7, 5], [3, 2, 1]])\n",
        "print(a2)\n",
        "print(np.percentile(a2, 50))\n",
        "print(np.percentile(a2, 50, axis=0))\n",
        "print(np.percentile(a2, 50, axis=1))"
      ],
      "metadata": {
        "colab": {
          "base_uri": "https://localhost:8080/"
        },
        "id": "M2qw_S2BaiYc",
        "outputId": "4e66360e-a9cc-46f5-d126-4503540d71e4"
      },
      "execution_count": null,
      "outputs": [
        {
          "output_type": "stream",
          "name": "stdout",
          "text": [
            "[[10  7  5]\n",
            " [ 3  2  1]]\n",
            "4.0\n",
            "[6.5 4.5 3. ]\n",
            "[7. 2.]\n"
          ]
        }
      ]
    },
    {
      "cell_type": "markdown",
      "source": [
        "### any()"
      ],
      "metadata": {
        "id": "fo6q13ESwq5_"
      }
    },
    {
      "cell_type": "code",
      "source": [
        "a2 = np.array([[False, False, False],\n",
        "               [True, True, True],\n",
        "               [False, True, True]])\n",
        "print(np.any(a2))\n",
        "print(np.any(a2, axis=0))\n",
        "print(np.any(a2, axis=1))"
      ],
      "metadata": {
        "colab": {
          "base_uri": "https://localhost:8080/"
        },
        "id": "uVjUOx_oxFz3",
        "outputId": "e429d3be-e409-4e1c-9dd0-e1cd36476f03"
      },
      "execution_count": null,
      "outputs": [
        {
          "output_type": "stream",
          "name": "stdout",
          "text": [
            "True\n",
            "[ True  True  True]\n",
            "[False  True  True]\n"
          ]
        }
      ]
    },
    {
      "cell_type": "markdown",
      "source": [
        "### all()"
      ],
      "metadata": {
        "id": "xJBtYR9bxF7W"
      }
    },
    {
      "cell_type": "code",
      "source": [
        "print(np.all(a2))\n",
        "print(np.all(a2, axis=0))\n",
        "print(np.all(a2, axis=1))"
      ],
      "metadata": {
        "colab": {
          "base_uri": "https://localhost:8080/"
        },
        "id": "xwdyUlgkxO-v",
        "outputId": "1d97408c-49b8-49d2-e070-a4f2511cbdd5"
      },
      "execution_count": null,
      "outputs": [
        {
          "output_type": "stream",
          "name": "stdout",
          "text": [
            "False\n",
            "[False False False]\n",
            "[False  True False]\n"
          ]
        }
      ]
    },
    {
      "cell_type": "markdown",
      "source": [
        "## 비교연산(Comparison Operators)"
      ],
      "metadata": {
        "id": "p505Z11bxH6h"
      }
    },
    {
      "cell_type": "markdown",
      "source": [
        "| 연산자 | 비교 범용 함수 |\n",
        "|------|------|\n",
        "| `==`| `np.equal` |\n",
        "| `!=`| `np.not_equal` |\n",
        "| `<` | `np.less` |\n",
        "| `<=`| `np.less_equal` |\n",
        "| `>` | `np.greater` |\n",
        "| `>=`| `np.greater_equal` |"
      ],
      "metadata": {
        "id": "oMw07Nt2xUL_"
      }
    },
    {
      "cell_type": "code",
      "source": [
        "a1 = np.arange(1, 10)\n",
        "print(a1)\n",
        "print(a1 == 5)\n",
        "print(a1 != 5)\n",
        "print(a1 < 5)\n",
        "print(a1 <= 5)\n",
        "print(a1 > 5)\n",
        "print(a1 >= 5)"
      ],
      "metadata": {
        "colab": {
          "base_uri": "https://localhost:8080/"
        },
        "id": "X2LN7nlKbtdU",
        "outputId": "fa00695b-f7f9-485e-c913-adfcb68039e0"
      },
      "execution_count": null,
      "outputs": [
        {
          "output_type": "stream",
          "name": "stdout",
          "text": [
            "[1 2 3 4 5 6 7 8 9]\n",
            "[False False False False  True False False False False]\n",
            "[ True  True  True  True False  True  True  True  True]\n",
            "[ True  True  True  True False False False False False]\n",
            "[ True  True  True  True  True False False False False]\n",
            "[False False False False False  True  True  True  True]\n",
            "[False False False False  True  True  True  True  True]\n"
          ]
        }
      ]
    },
    {
      "cell_type": "markdown",
      "source": [
        "## 배열 정렬\n",
        "  * np.sort(array):정렬된 배열의 복사본 생성, 원본 배열의 변경 없음\n",
        "  * array.sort(): 원본 배열의 값이 변경됨"
      ],
      "metadata": {
        "id": "tN8py5bXz8Vv"
      }
    },
    {
      "cell_type": "code",
      "source": [
        "a1 = np.random.randint(1, 10, size=10)\n",
        "print(np.sort(a1))\n",
        "print(a1)\n",
        "print(a1.sort())\n",
        "print(a1)"
      ],
      "metadata": {
        "colab": {
          "base_uri": "https://localhost:8080/"
        },
        "id": "Az22zMRB0fEO",
        "outputId": "dfb8b216-f4c4-44f0-ce4b-d8ff69595f0e"
      },
      "execution_count": null,
      "outputs": [
        {
          "output_type": "stream",
          "name": "stdout",
          "text": [
            "[2 3 3 3 3 3 6 7 8 9]\n",
            "[3 8 3 2 3 7 9 3 3 6]\n",
            "None\n",
            "[2 3 3 3 3 3 6 7 8 9]\n"
          ]
        }
      ]
    },
    {
      "cell_type": "markdown",
      "source": [
        "## 부분 정렬\n",
        "  * `partition(array, k)`: 배열에서 k개의 작은 값을 선택하여 왼쪽에 배치\n",
        "    * -k:k개의 큰 값을 오른쪽에 배치"
      ],
      "metadata": {
        "id": "v0O0nt4b0fMW"
      }
    },
    {
      "cell_type": "code",
      "source": [
        "a1 = np.random.randint(1, 10, size=10)\n",
        "print(a1)\n",
        "print(np.partition(a1, 3))\n",
        "print(np.partition(a1, -3))"
      ],
      "metadata": {
        "colab": {
          "base_uri": "https://localhost:8080/"
        },
        "id": "dLzh-nnM04l2",
        "outputId": "18e1bfbb-48d1-45f2-8dfd-ce10d917745b"
      },
      "execution_count": null,
      "outputs": [
        {
          "output_type": "stream",
          "name": "stdout",
          "text": [
            "[5 5 3 5 1 5 5 1 3 3]\n",
            "[1 1 3 3 5 5 5 5 3 5]\n",
            "[1 1 3 3 3 5 5 5 5 5]\n"
          ]
        }
      ]
    },
    {
      "cell_type": "markdown",
      "source": [
        "| 함수\t      | 설명           | 파일 종류        |\n",
        "|---------------|---------------------|-------------|\n",
        "|``np.save()``      | NumPy배열 객체 1개를 파일에 저장        | 바이너리 |\n",
        "|``np.savez()``     | NumPy배열 객체 여러개를 파일에 저장    | 바이너리 |\n",
        "|``np.load()``      | NumPy배열 저장 파일로부터 객체 로딩  | 바이너리 |\n",
        "|``np.loadtxt()``   | 텍스트 파일로부터 배열 로딩       | 텍스트 |\n",
        "|``np.savetxt()``   | 텍스트 파일에 NumPy 배열 객체 저장    | 텍스트 |"
      ],
      "metadata": {
        "id": "lGDR9wkN04vV"
      }
    },
    {
      "cell_type": "code",
      "source": [
        "a2 = np.random.randint(1, 10, size=(5,5))\n",
        "print(a2)\n",
        "np.save(\"a\", a2)"
      ],
      "metadata": {
        "colab": {
          "base_uri": "https://localhost:8080/"
        },
        "id": "Xfs0YI92113N",
        "outputId": "83d9c1f9-f8bc-490f-c934-f23812af1561"
      },
      "execution_count": null,
      "outputs": [
        {
          "output_type": "stream",
          "name": "stdout",
          "text": [
            "[[7 9 7 8 8]\n",
            " [9 9 7 5 2]\n",
            " [7 4 8 1 9]\n",
            " [1 2 3 6 2]\n",
            " [7 9 3 4 5]]\n"
          ]
        }
      ]
    },
    {
      "cell_type": "code",
      "source": [
        "ls"
      ],
      "metadata": {
        "colab": {
          "base_uri": "https://localhost:8080/"
        },
        "id": "b0ZT8l87dZsk",
        "outputId": "849e0372-0d1a-4f65-f74f-ae10c153acbc"
      },
      "execution_count": null,
      "outputs": [
        {
          "output_type": "stream",
          "name": "stdout",
          "text": [
            "a.npy  \u001b[0m\u001b[01;34msample_data\u001b[0m/\n"
          ]
        }
      ]
    },
    {
      "cell_type": "markdown",
      "metadata": {
        "id": "xBOsZ6EThyW5"
      },
      "source": [
        "# 참고문헌\n",
        "\n",
        "* NumPy, https://numpy.org/\n",
        "* Jake VanderPlas, \"Python Data Science Handbook\", O'Reilly\n",
        "* Wes Mckinney, \"Python for Data Analysis\", O'Reilly"
      ]
    }
  ],
  "metadata": {
    "colab": {
      "collapsed_sections": [],
      "name": "NumPy1.ipynb",
      "provenance": [],
      "include_colab_link": true
    },
    "kernelspec": {
      "display_name": "Python 3",
      "language": "python",
      "name": "python3"
    },
    "language_info": {
      "codemirror_mode": {
        "name": "ipython",
        "version": 3
      },
      "file_extension": ".py",
      "mimetype": "text/x-python",
      "name": "python",
      "nbconvert_exporter": "python",
      "pygments_lexer": "ipython3",
      "version": "3.8.8"
    }
  },
  "nbformat": 4,
  "nbformat_minor": 0
}